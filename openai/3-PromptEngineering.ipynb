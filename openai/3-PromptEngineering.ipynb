{
 "cells": [
  {
   "cell_type": "markdown",
   "metadata": {},
   "source": [
    "# Prompt Engineering\n",
    "\n",
    "## Prompting Principles \n",
    "### 1. Write Clear and specific instructions\n",
    "Can be achieved using the following tactics (one or some of them as needed it is not mandatory to use all of them in a single prompt)\n",
    "1. Put instructions at the beginning of the prompt, each on their own line, and use delimiters to clearly indicate distinct parts of the prompt **Delimiters**: triple backticks ```, triple quotes \"\"\" or curly braces {}\n",
    "2. Be Specific, descriptive and as detailed as possible about the desired context, outcome or length\n",
    "3. Use RTF Format\n",
    "4. Few-Shot prompting\n",
    "5. Ask the model to check whether conditions are satisfied\n",
    "### 2. Give the model time to think\n",
    "Can be achieved using the following tactics (one or some of them as needed it is not mandatory to use all of them in a single prompt)\n",
    "1. Specify the steps required to complete a task\n",
    "2. Instruct the model to work out its own solution before rushing to a conclusion"
   ]
  },
  {
   "cell_type": "code",
   "execution_count": 10,
   "metadata": {},
   "outputs": [
    {
     "data": {
      "text/plain": [
       "'sk-proj-mtebUrHHjiM2vlsm7ic2T3BlbkFJ9hmU8vqNHDl8nPutse4x'"
      ]
     },
     "execution_count": 10,
     "metadata": {},
     "output_type": "execute_result"
    }
   ],
   "source": [
    "import os\n",
    "from dotenv import load_dotenv, find_dotenv\n",
    "# find_dotenv() find .env automatically by walking up directories until it's found \n",
    "# load_dotenv() load the environment variables from the .env file\n",
    "# override=True allows the .env file to override the system environment variables\n",
    "load_dotenv(find_dotenv(), override=True)\n",
    "\n",
    "apiKey = os.environ.get('OPENAI_API_KEY')\n",
    "apiKey"
   ]
  },
  {
   "cell_type": "code",
   "execution_count": 24,
   "metadata": {},
   "outputs": [],
   "source": [
    "from openai import OpenAI\n",
    "client = OpenAI(api_key=apiKey)\n",
    "def get_chat_completion(prompt, model=\"gpt-3.5-turbo\", systemRole=\"you are a helpful assistant\", temperature=1):\n",
    "    response = client.chat.completions.create(\n",
    "        model=model,\n",
    "        messages=[\n",
    "            {\"role\": \"system\", \"content\": systemRole},\n",
    "            {\"role\": \"user\", \"content\": prompt},\n",
    "        ],\n",
    "        temperature=temperature\n",
    "    )\n",
    "    return response.choices[0].message.content"
   ]
  },
  {
   "cell_type": "markdown",
   "metadata": {},
   "source": [
    "## Guidelines For Prompting\n",
    "\n",
    "### 1. Use the latest model\n",
    "### 2. Write clear and specific instructions\n",
    "#### Tactic #1\n",
    "Put instructions at the beginning of the prompt, each on their own line, and use delimiters to clearly indicate distinct parts of the prompt\n",
    "\n",
    "**Delimiters**: triple backticks ```, triple quotes \"\"\" or curly braces {}"
   ]
  },
  {
   "cell_type": "code",
   "execution_count": 13,
   "metadata": {},
   "outputs": [
    {
     "name": "stdout",
     "output_type": "stream",
     "text": [
      "```\n",
      "Prompt Engineering ist eine neue Disziplin zur Entwicklung und Optimierung von Aufforderungen, um Sprachmodelle effizient für eine Vielzahl von Anwendungen und Forschungsthemen zu nutzen.\n",
      "```\n"
     ]
    }
   ],
   "source": [
    "text = '''\n",
    "prompt engineering is a new discipline for developing and optimizing prompts to efficiently use language models for a wide variety of applications and research topics.'''\n",
    "\n",
    "prompt = f'''\n",
    "translate the text delimited by triple backticks from English to German\n",
    "```{text}```\n",
    "'''\n",
    "response = get_chat_completion(prompt)\n",
    "print(response)\n",
    "\n",
    "# other notebook editor doesn't display the backtick in the response this weird behavior is in VSCode only"
   ]
  },
  {
   "cell_type": "markdown",
   "metadata": {},
   "source": [
    "#### Tactic #2\n",
    "Be Specific, descriptive and as detailed as possible about the desired context, outcome or length"
   ]
  },
  {
   "cell_type": "code",
   "execution_count": 16,
   "metadata": {},
   "outputs": [
    {
     "name": "stdout",
     "output_type": "stream",
     "text": [
      "The text provides an overview of artificial intelligence (AI), discussing its definition as intelligence exhibited by machines and its broad applications in various sectors such as industry, government, and science. It highlights key advancements in AI technology, tracing its history from Alan Turing's early research to the current AI boom in the early 2020s. The text also addresses the societal and economic impact of AI in the 21st century, including automation, data-driven decision-making, and ethical considerations. Various subfields and goals of AI research are outlined, emphasizing the interdisciplinary nature of AI that integrates techniques from computer science, mathematics, psychology, and other fields.\n",
      "**********************************************************************************************************************************************************************************************************************************************************\n",
      "Artificial intelligence (AI) refers to machines exhibiting intelligence through computer systems, impacting society by automating tasks and influencing various industries. The field developed since Alan Turing's research in the 1950s, experiencing funding fluctuations until recent advancements in deep learning and transformer architecture. Various AI applications exist in industries like search engines, recommendation systems, autonomous vehicles, and AI art. The long-term goals of AI research include general intelligence and integrating techniques from various disciplines to achieve these goals.\n",
      "Words in the response: 77\n",
      "**********************************************************************************************************************************************************************************************************************************************************\n",
      "Artificial Intelligence (AI) is a field of research in computer science that focuses on developing methods for machines to exhibit intelligence. Key points include:\n",
      "\n",
      "- AI is used in various industries and applications, such as search engines, recommendation systems, speech interaction, autonomous vehicles, generative tools, and strategic games.\n",
      "- The history of AI dates back to Alan Turing's research and the establishment of the academic discipline in 1956, with cycles of optimism and disappointment known as AI winters.\n",
      "- Recent advancements in deep learning and transformer architecture have led to an AI boom, driving significant progress in the field in the early 2020s.\n",
      "- The increasing integration of AI in society is impacting job markets, healthcare, government, industry, and education, raising concerns about ethical implications and regulatory policies.\n",
      "- The goals of AI research include reasoning, knowledge representation, learning, perception, and ultimately achieving general intelligence.\n",
      "\n",
      "In essence, AI is a rapidly advancing field with diverse applications and ongoing discussions about its implications and future directions.\n"
     ]
    }
   ],
   "source": [
    "text = ''' \n",
    "Artificial intelligence (AI), in its broadest sense, is intelligence exhibited by machines, particularly computer systems. It is a field of research in computer science that develops and studies methods and software that enable machines to perceive their environment and uses learning and intelligence to take actions that maximize their chances of achieving defined goals.[1] Such machines may be called AIs.\n",
    "\n",
    "AI technology is widely used throughout industry, government, and science. Some high-profile applications include advanced web search engines (e.g., Google Search); recommendation systems (used by YouTube, Amazon, and Netflix); interacting via human speech (e.g., Google Assistant, Siri, and Alexa); autonomous vehicles (e.g., Waymo); generative and creative tools (e.g., ChatGPT and AI art); and superhuman play and analysis in strategy games (e.g., chess and Go).[2] However, many AI applications are not perceived as AI: \"A lot of cutting edge AI has filtered into general applications, often without being called AI because once something becomes useful enough and common enough it's not labeled AI anymore.\"[3][4]\n",
    "\n",
    "Alan Turing was the first person to conduct substantial research in the field that he called machine intelligence.[5] Artificial intelligence was founded as an academic discipline in 1956.[6] The field went through multiple cycles of optimism,[7][8] followed by periods of disappointment and loss of funding, known as AI winter.[9][10] Funding and interest vastly increased after 2012 when deep learning surpassed all previous AI techniques,[11] and after 2017 with the transformer architecture.[12] This led to the AI boom of the early 2020s, with companies, universities, and laboratories overwhelmingly based in the United States pioneering significant advances in artificial intelligence.[13]\n",
    "\n",
    "The growing use of artificial intelligence in the 21st century is influencing a societal and economic shift towards increased automation, data-driven decision-making, and the integration of AI systems into various economic sectors and areas of life, impacting job markets, healthcare, government, industry, and education. This raises questions about the long-term effects, ethical implications, and risks of AI, prompting discussions about regulatory policies to ensure the safety and benefits of the technology.\n",
    "\n",
    "The various subfields of AI research are centered around particular goals and the use of particular tools. The traditional goals of AI research include reasoning, knowledge representation, planning, learning, natural language processing, perception, and support for robotics.[a] General intelligence—the ability to complete any task performable by a human on an at least equal level—is among the field's long-term goals.[14]\n",
    "\n",
    "To reach these goals, AI researchers have adapted and integrated a wide range of techniques, including search and mathematical optimization, formal logic, artificial neural networks, and methods based on statistics, operations research, and economics.[b] AI also draws upon psychology, linguistics, philosophy, neuroscience, and other fields.[15]\n",
    "'''\n",
    "\n",
    "# Initial Prompt\n",
    "prompt = f'''\n",
    "summarize the following text\n",
    "```{text}```\n",
    "'''\n",
    "\n",
    "response = get_chat_completion(prompt)\n",
    "print(response)\n",
    "\n",
    "print(\"*\"*200)\n",
    "# Make the prompt more specific by asking to summarize in a specific number of words (LLM will output a summary with the approximate number of words)\n",
    "prompt = f'''\n",
    "summarize the following text in 50 words\n",
    "```{text}```\n",
    "'''\n",
    "\n",
    "response = get_chat_completion(prompt)\n",
    "print(response)\n",
    "print(\"Words in the response:\", len(response.split()))\n",
    "\n",
    "print(\"*\"*200)\n",
    "\n",
    "# Make the prompt better by specifying the structure of the output\n",
    "prompt = f'''\n",
    "Summarize the text below delimited by triple backticks.\n",
    "Begin the summary with an introduction sentence, followed by a bulleted list highlighting the key points.\n",
    "Conclude the summary with a sentence that encapsulate the main idea of the text.\n",
    "```{text}```\n",
    "'''\n",
    "response = get_chat_completion(prompt)\n",
    "print(response)"
   ]
  },
  {
   "cell_type": "markdown",
   "metadata": {},
   "source": [
    "#### Tactic #3\n",
    "Use RTF Format\n",
    "R : Role , T : Task , F : Format"
   ]
  },
  {
   "cell_type": "code",
   "execution_count": 27,
   "metadata": {},
   "outputs": [
    {
     "name": "stdout",
     "output_type": "stream",
     "text": [
      "<!DOCTYPE html>\n",
      "<html>\n",
      "\n",
      "<head>\n",
      "    <title>Weekly Weight Loss Meal Plan</title>\n",
      "</head>\n",
      "\n",
      "<body>\n",
      "\n",
      "    <h1>Weekly Meal Plan for Weight Loss</h1>\n",
      "\n",
      "    <h2>Day 1</h2>\n",
      "    <h3>Breakfast</h3>\n",
      "    <p>Avocado and Egg Breakfast Bowl</p>\n",
      "    <p>Ingredients: Avocado, Eggs, Olive Oil</p>\n",
      "\n",
      "    <h3>Lunch</h3>\n",
      "    <p>Grilled Chicken Salad</p>\n",
      "    <p>Ingredients: Chicken Breast, Various Vegetables, Olive Oil</p>\n",
      "\n",
      "    <h3>Dinner</h3>\n",
      "    <p>Steamed Fish with Broccoli</p>\n",
      "    <p>Ingredients: Fish, Broccoli, Olive Oil</p>\n",
      "\n",
      "    <h2>Day 2</h2>\n",
      "    <h3>Breakfast</h3>\n",
      "    <p>Broccoli and Cheese Omelette</p>\n",
      "    <p>Ingredients: Broccoli, Eggs, Olive Oil</p>\n",
      "\n",
      "    <h3>Lunch</h3>\n",
      "    <p>Chicken and Vegetable Stir-Fry</p>\n",
      "    <p>Ingredients: Chicken, Various Vegetables, Olive Oil</p>\n",
      "\n",
      "    <h3>Dinner</h3>\n",
      "    <p>Baked Fish with Roasted Vegetables</p>\n",
      "    <p>Ingredients: Fish, Various Vegetables, Olive Oil</p>\n",
      "\n",
      "    <!-- Day 3, Day 4, Day 5, Day 6, and Day 7 meal plans go here -->\n",
      "\n",
      "</body>\n",
      "\n",
      "</html>\n"
     ]
    }
   ],
   "source": [
    "# Bad Prompt \n",
    "# No role\n",
    "# No format for the output\n",
    "# Task is not clear enough\n",
    "prompt = ' write a weekly meal plan for weight loss'\n",
    "\n",
    "# Good Prompt\n",
    "# Specify the role of the system\n",
    "system_role = \"you are a nutritionist with many years of experience\"\n",
    "\n",
    "# Make the task clear\n",
    "prompt = f'''\n",
    "write a weekly meal plan for weight loss\n",
    "keep it under 180k cal per day.\n",
    "Give title to the recipe.\n",
    "Use some of the following ingredients: \n",
    "```\n",
    "- chicken\n",
    "- broccoli\n",
    "- eggs\n",
    "- avocado\n",
    "- olive oil\n",
    "- chicken breast\n",
    "- fish\n",
    "- various vegetables\n",
    "```\n",
    "Format everything in HTML 5.\n",
    "'''\n",
    "\n",
    "response = get_chat_completion(prompt, systemRole=system_role)\n",
    "print(response)"
   ]
  },
  {
   "cell_type": "code",
   "execution_count": 30,
   "metadata": {},
   "outputs": [
    {
     "data": {
      "text/html": [
       "<!DOCTYPE html>\n",
       "<html>\n",
       "\n",
       "<head>\n",
       "    <title>Weekly Weight Loss Meal Plan</title>\n",
       "</head>\n",
       "\n",
       "<body>\n",
       "\n",
       "    <h1>Weekly Meal Plan for Weight Loss</h1>\n",
       "\n",
       "    <h2>Day 1</h2>\n",
       "    <h3>Breakfast</h3>\n",
       "    <p>Avocado and Egg Breakfast Bowl</p>\n",
       "    <p>Ingredients: Avocado, Eggs, Olive Oil</p>\n",
       "\n",
       "    <h3>Lunch</h3>\n",
       "    <p>Grilled Chicken Salad</p>\n",
       "    <p>Ingredients: Chicken Breast, Various Vegetables, Olive Oil</p>\n",
       "\n",
       "    <h3>Dinner</h3>\n",
       "    <p>Steamed Fish with Broccoli</p>\n",
       "    <p>Ingredients: Fish, Broccoli, Olive Oil</p>\n",
       "\n",
       "    <h2>Day 2</h2>\n",
       "    <h3>Breakfast</h3>\n",
       "    <p>Broccoli and Cheese Omelette</p>\n",
       "    <p>Ingredients: Broccoli, Eggs, Olive Oil</p>\n",
       "\n",
       "    <h3>Lunch</h3>\n",
       "    <p>Chicken and Vegetable Stir-Fry</p>\n",
       "    <p>Ingredients: Chicken, Various Vegetables, Olive Oil</p>\n",
       "\n",
       "    <h3>Dinner</h3>\n",
       "    <p>Baked Fish with Roasted Vegetables</p>\n",
       "    <p>Ingredients: Fish, Various Vegetables, Olive Oil</p>\n",
       "\n",
       "    <!-- Day 3, Day 4, Day 5, Day 6, and Day 7 meal plans go here -->\n",
       "\n",
       "</body>\n",
       "\n",
       "</html>"
      ],
      "text/plain": [
       "<IPython.core.display.HTML object>"
      ]
     },
     "metadata": {},
     "output_type": "display_data"
    }
   ],
   "source": [
    "from IPython.display import HTML, display\n",
    "display(HTML(response))"
   ]
  },
  {
   "cell_type": "code",
   "execution_count": 32,
   "metadata": {},
   "outputs": [
    {
     "name": "stdout",
     "output_type": "stream",
     "text": [
      "{\n",
      "  \"top_books_for_teens\": [\n",
      "    {\n",
      "      \"book_id\": 1,\n",
      "      \"title\": \"To Kill a Mockingbird\",\n",
      "      \"author\": \"Harper Lee\",\n",
      "      \"year\": 1960,\n",
      "      \"genre\": \"Classic Fiction\"\n",
      "    },\n",
      "    {\n",
      "      \"book_id\": 2,\n",
      "      \"title\": \"The Catcher in the Rye\",\n",
      "      \"author\": \"J.D. Salinger\",\n",
      "      \"year\": 1951,\n",
      "      \"genre\": \"Coming-of-Age Fiction\"\n",
      "    },\n",
      "    {\n",
      "      \"book_id\": 3,\n",
      "      \"title\": \"Pride and Prejudice\",\n",
      "      \"author\": \"Jane Austen\",\n",
      "      \"year\": 1813,\n",
      "      \"genre\": \"Romance\"\n",
      "    },\n",
      "    {\n",
      "      \"book_id\": 4,\n",
      "      \"title\": \"1984\",\n",
      "      \"author\": \"George Orwell\",\n",
      "      \"year\": 1949,\n",
      "      \"genre\": \"Dystopian Fiction\"\n",
      "    },\n",
      "    {\n",
      "      \"book_id\": 5,\n",
      "      \"title\": \"The Perks of Being a Wallflower\",\n",
      "      \"author\": \"Stephen Chbosky\",\n",
      "      \"year\": 1999,\n",
      "      \"genre\": \"Young Adult Fiction\"\n",
      "    },\n",
      "    {\n",
      "      \"book_id\": 6,\n",
      "      \"title\": \"The Hobbit\",\n",
      "      \"author\": \"J.R.R. Tolkien\",\n",
      "      \"year\": 1937,\n",
      "      \"genre\": \"Fantasy\"\n",
      "    },\n",
      "    {\n",
      "      \"book_id\": 7,\n",
      "      \"title\": \"Harry Potter and the Sorcerer's Stone\",\n",
      "      \"author\": \"J.K. Rowling\",\n",
      "      \"year\": 1997,\n",
      "      \"genre\": \"Fantasy\"\n",
      "    },\n",
      "    {\n",
      "      \"book_id\": 8,\n",
      "      \"title\": \"The Fault in Our Stars\",\n",
      "      \"author\": \"John Green\",\n",
      "      \"year\": 2012,\n",
      "      \"genre\": \"Young Adult Fiction\"\n",
      "    },\n",
      "    {\n",
      "      \"book_id\": 9,\n",
      "      \"title\": \"The Giver\",\n",
      "      \"author\": \"Lois Lowry\",\n",
      "      \"year\": 1993,\n",
      "      \"genre\": \"Science Fiction\"\n",
      "    },\n",
      "    {\n",
      "      \"book_id\": 10,\n",
      "      \"title\": \"The Book Thief\",\n",
      "      \"author\": \"Markus Zusak\",\n",
      "      \"year\": 2005,\n",
      "      \"genre\": \"Historical Fiction\"\n",
      "    }\n",
      "  ]\n",
      "}\n"
     ]
    }
   ],
   "source": [
    "system_role = \"Assume the role of  literary critic, carefully evaluating, studying and discussing literature.\"\n",
    "prompt = f'''\n",
    "Analyze world literature and provide a list of the top 10 books teenager should read.\n",
    "Present the output in JSON format with the following keys: book_id, title, author, year, and genre.\n",
    "'''\n",
    "response = get_chat_completion(prompt, systemRole=system_role)\n",
    "print(response)"
   ]
  },
  {
   "cell_type": "markdown",
   "metadata": {},
   "source": [
    "#### Tactic #4 Few-shot Prompting\n",
    "\n",
    "##### Zero-Shot Prompting\n",
    "    the user provides the LLM with a prompt, and the LLM tries to generate the output\n",
    "\n",
    "##### Few-Shot Prompting\n",
    "    the user provides the LLM with few examples of the desired output, along with clear instructions and context"
   ]
  },
  {
   "cell_type": "code",
   "execution_count": 33,
   "metadata": {},
   "outputs": [
    {
     "name": "stdout",
     "output_type": "stream",
     "text": [
      "Resilience is the ability to bounce back from challenges, adversity, and setbacks. It involves being able to adapt to difficult circumstances, maintain a positive outlook, and keep moving forward despite obstacles. Resilient individuals are able to learn and grow from their experiences, developing coping mechanisms and strategies to overcome difficult situations. Building resilience involves developing essential skills such as problem-solving, emotional intelligence, self-awareness, and social support. Engaging in activities that promote mental and emotional well-being, such as mindfulness, exercise, and connecting with others, can also enhance resilience. Ultimately, building resilience can help individuals navigate life's ups and downs more effectively and thrive in the face of adversity.\n"
     ]
    }
   ],
   "source": [
    "# Zero-shot\n",
    "prompt = f'''talk to me about resilience'''\n",
    "response = get_chat_completion(prompt)\n",
    "print(response)"
   ]
  },
  {
   "cell_type": "code",
   "execution_count": 34,
   "metadata": {},
   "outputs": [
    {
     "name": "stdout",
     "output_type": "stream",
     "text": [
      "<grandparent>: The tallest trees endure the strongest winds; the brightest stars shine in the darkest nights; the most beautiful flowers bloom from the harshest conditions.\n"
     ]
    }
   ],
   "source": [
    "# Few Shot\n",
    "response = client.chat.completions.create(\n",
    "    model=\"gpt-3.5-turbo\",\n",
    "    messages=[\n",
    "        {\"role\": \"system\", \"content\": \"you are an assistant that answer in a consistent way\"},\n",
    "        {\"role\": \"user\", \"content\": \"<childe>: teach me about patience.\"},\n",
    "        {\"role\": \"assistant\", \"content\": \"<grandparent>: The river that carves the deepest valley flows from a modest spring; the grandest symphony originates from a single note; the most intricate tapestry begins with a solitary thread.\"},\n",
    "        {\"role\": \"user\", \"content\": \"<child>: teach me about resilience.\"},\n",
    "    ],\n",
    "    temperature=0.5\n",
    ")\n",
    "print(response.choices[0].message.content)"
   ]
  },
  {
   "cell_type": "markdown",
   "metadata": {},
   "source": [
    "#### Tactic #5 - Ask the model to check if the conditions are satisfied\n",
    "Check assumptions required to do the task if not satisfied stop. you might also consider potential edge cases and how the model should handle them to avoid unexpected errors or results"
   ]
  },
  {
   "cell_type": "code",
   "execution_count": 37,
   "metadata": {},
   "outputs": [
    {
     "name": "stdout",
     "output_type": "stream",
     "text": [
      "Step 1 - Get some water boiling.\n",
      "Step 2 - Grab a cup and put a tea bag in it.\n",
      "Step 3 - Pour the hot water over the tea bag.\n",
      "Step 4 - Let the tea steep for a few minutes.\n",
      "Step 5 - Remove the tea bag.\n",
      "Step 6 - Add sugar or milk to taste.\n",
      "********************************************************************************************************************************************************************************************************\n",
      "No steps provided.\n"
     ]
    }
   ],
   "source": [
    "text = '''\n",
    "Making a cup of tea is easy! First, you need to get some water boiling. While that's happening, grab a cup and put a tea bag in it. Once the water is\n",
    "hot enough, just pour it over the tea bag. Let it sit for a bit so the tea can steep. After a few minutes, take out the tea bag. If you \n",
    "like, you can add some sugar or milk to taste. And that's it! You've got yourself a delicious cup of tea to enjoy.\n",
    "'''\n",
    "\n",
    "prompt = f'''\n",
    "You will be provided with text delimited by triple quotes. \n",
    "If it contains a sequence of instructions,  \n",
    "re-write those instructions in the following format:\n",
    "\n",
    "Step 1 - ...\n",
    "Step 2 - …\n",
    "…\n",
    "Step N - …\n",
    "\n",
    "If the text does not contain a sequence of instructions,\n",
    "then simply write \\\"No steps provided.\\\"\n",
    "\n",
    "\\\"\\\"\\\"{text}\\\"\\\"\\\"\n",
    "'''\n",
    "\n",
    "response = get_chat_completion(prompt)\n",
    "print(response)\n",
    "\n",
    "print(\"*\"*200)\n",
    "\n",
    "text = '''Resilience is the ability to bounce back from challenges, adversity, and setbacks.\n",
    "It involves being able to adapt to difficult circumstances, maintain a positive outlook, and keep moving forward despite obstacles. \n",
    "Resilient individuals are able to learn and grow from their experiences, developing coping mechanisms and strategies to overcome difficult situations.\n",
    "Building resilience involves developing essential skills such as problem-solving, emotional intelligence, self-awareness, and social support.\n",
    "Engaging in activities that promote mental and emotional well-being, such as mindfulness, exercise, and connecting with others, can also enhance resilience. \n",
    "Ultimately, building resilience can help individuals navigate life's ups and downs more effectively and thrive in the face of adversity. '''\n",
    "\n",
    "prompt = f'''\n",
    "You will be provided with text delimited by triple quotes. \n",
    "If it contains a sequence of instructions,  \n",
    "re-write those instructions in the following format:\n",
    "\n",
    "Step 1 - ...\n",
    "Step 2 - …\n",
    "…\n",
    "Step N - …\n",
    "\n",
    "If the text does not contain a sequence of instructions,\n",
    "then simply write \\\"No steps provided.\\\"\n",
    "\n",
    "\\\"\\\"\\\"{text}\\\"\\\"\\\"\n",
    "'''\n",
    "\n",
    "response = get_chat_completion(prompt)\n",
    "print(response)\n"
   ]
  },
  {
   "cell_type": "markdown",
   "metadata": {},
   "source": [
    "## Principle 2 Give Model time to \"Think\"\n",
    "\n",
    "if the model making reasoning errors by rushing to an incorrect conclusion, you should try reframing the query to request a chain or series of relevant reasoning before the model provides its final answer \n",
    "Another way to think about this is that if you give a model a task that is too complex for it to do in a short time or in a small number of words it may make up a guess which is likely to be incorrect \n",
    "To solve this situations you can instruct the model to think longer about the problem which means spending more computational effort on the task\n",
    "\n",
    "### Tactic #1 Specify the steps required to complete a task\n"
   ]
  },
  {
   "cell_type": "code",
   "execution_count": 48,
   "metadata": {},
   "outputs": [
    {
     "name": "stdout",
     "output_type": "stream",
     "text": [
      "Based on the customer feedback provided, the main points can be summarized as follows:\n",
      "\n",
      "1. Pricing: The customer mentions that the Barbie Toy purchased was small compared to its price.\n",
      "    Sentiment: Negative\n",
      "\n",
      "2. Delivery: The product was delivered one day earlier than expected, causing inconvenience as it was meant for the daughter's birthday.\n",
      "    Sentiment: Negative\n",
      "\n",
      "3. Quality: The customer expresses dissatisfaction with the product quality, stating that the toy broke after just one day of use.\n",
      "    Sentiment: Negative\n",
      "\n",
      "Since the feedback covers aspects related to Pricing, Delivery, and Quality departments, the sentiments associated with each department are negative.\n"
     ]
    }
   ],
   "source": [
    "text = '''text = f\"\"\"\n",
    "\"the Barbie Toy that i bought for my daughter birthday was so small compared to its price. it also delivered one day earlier than expected so i caught my daughter birthday i think Jumbo Toys need to give more attention to their products quality as after one day the toy broken \"},\n",
    "'''\n",
    "\n",
    "prompt = f'''\n",
    "Summarize the text below delimited by triple backticks.summarize the customer feedback. extract the department that are related to this feedback and show sentiment analysis for each department.\n",
    "```{text}```\n",
    "'''\n",
    "\n",
    "system_role = '''As a e-commerce company representative, you are responsible for analyzing customer feedback and categorizing them based on the department they are related to.reply the customer with a suitable response based on the sentiment analysis of the feedback.\n",
    "we have the following departments:\n",
    "- Pricing: it handle everything related to the price of the products\n",
    "- Delivery: it handle everything related to the delivery of the products\n",
    "- Quality: it handle everything related to the quality of the products\n",
    "- Website: it handle everything related to the website\n",
    "'''\n",
    "\n",
    "response = get_chat_completion(prompt,systemRole=system_role)\n",
    "print(response)\n",
    "\n",
    "# Issues with the response\n",
    "# the summarization part is missing in the response\n",
    "# the generated reply is for each department not for the whole feedback"
   ]
  },
  {
   "cell_type": "code",
   "execution_count": 47,
   "metadata": {},
   "outputs": [
    {
     "name": "stdout",
     "output_type": "stream",
     "text": [
      "Based on the customer feedback provided, we can summarize it as follows:\n",
      "- The customer purchased a Barbie Toy for their daughter's birthday.\n",
      "- They found the toy to be small compared to its price.\n",
      "- The delivery was made one day earlier than expected, causing an issue with the birthday surprise.\n",
      "- Unfortunately, the toy broke after one day of use, indicating concerns about the product quality.\n",
      "\n",
      "Now, let's categorize each aspect of the feedback to the relevant department and perform sentiment analysis:\n",
      "\n",
      "1. Pricing:\n",
      "- Sentiment: Negative (small toy compared to price)\n",
      "2. Delivery:\n",
      "- Sentiment: Neutral/Positive (early delivery may be positive, but not in this case as it ruined the surprise)\n",
      "3. Quality:\n",
      "- Sentiment: Negative (toy broke after a day)\n",
      "\n",
      "Based on the sentiment analysis, I would like to respond to the customer as follows:\n",
      "\n",
      "Response:\n",
      "Dear Customer,\n",
      "\n",
      "We sincerely apologize for the inconvenience you experienced with the Barbie Toy you purchased for your daughter's birthday. Your feedback has been valuable to us. We understand your concerns regarding the pricing, delivery timing, and quality of our products. Please be assured that we take your feedback seriously and will address these issues promptly.\n",
      "\n",
      "For the pricing aspect, we will review the product pricing and ensure that it reflects the value you expect. Regarding the early delivery, we will strive to improve our delivery timings to avoid any inconvenience in the future. Additionally, we will investigate the quality issue with the Barbie Toy to prevent such occurrences from happening again.\n",
      "\n",
      "Thank you for bringing these matters to our attention. Should you have any further feedback or require assistance, please do not hesitate to contact us.\n",
      "\n",
      "Best regards,\n",
      "[Your Name]\n",
      "[Company Name]\n"
     ]
    }
   ],
   "source": [
    "prompt = f'''\n",
    "Your task is to perform the following actions:\n",
    "- Summarize the customer feedback.\n",
    "- Extract the department that are related to this feedback.\n",
    "- Show sentiment analysis for each department.\n",
    "- Reply to the customer with a suitable response based on the sentiment analysis of the feedback.\n",
    "```{text}```\n",
    "'''\n",
    "\n",
    "response = get_chat_completion(prompt,systemRole=system_role)\n",
    "print(response)"
   ]
  },
  {
   "cell_type": "markdown",
   "metadata": {},
   "source": [
    "### Tactic #2 Instruct the model to work out its own solution before rushing to a conclusion"
   ]
  },
  {
   "cell_type": "code",
   "execution_count": 49,
   "metadata": {},
   "outputs": [
    {
     "name": "stdout",
     "output_type": "stream",
     "text": [
      "The student's solution is partially correct. They correctly calculated the costs for the land, solar panels, and maintenance. However, the total cost calculation should be revised. \n",
      "\n",
      "The correct total cost for the first year of operations as a function of the number of square feet should be:\n",
      "Total cost = Land cost + Solar panel cost + Maintenance cost\n",
      "Total cost = 100x + 250x + (100,000 + 10x) \n",
      "Total cost = 100x + 250x + 100,000 + 10x\n",
      "Total cost = 360x + 100,000\n",
      "\n",
      "Therefore, the corrected total cost for the first year of operations as a function of the number of square feet would be 360x + 100,000.\n"
     ]
    }
   ],
   "source": [
    "prompt = f\"\"\"\n",
    "Determine if the student's solution is correct or not.\n",
    "\n",
    "Question:\n",
    "I'm building a solar power installation and I need  help working out the financial. \n",
    "- Land costs $100 / square foot\n",
    "- I can buy solar panels for $250 / square foot\n",
    "- I negotiated a contract for maintenance that will cost \n",
    "me a flat $100k per year, and an additional $10 / square \n",
    "foot\n",
    "What is the total cost for the first year of operations as a function of the number of square feet.\n",
    "\n",
    "Student's Solution:\n",
    "Let x be the size of the installation in square feet.\n",
    "Costs:\n",
    "1. Land cost: 100x\n",
    "2. Solar panel cost: 250x\n",
    "3. Maintenance cost: 100,000 + 100x\n",
    "Total cost: 100x + 250x + 100,000 + 100x = 450x + 100,000\n",
    "\"\"\"\n",
    "response = get_chat_completion(prompt)\n",
    "print(response)"
   ]
  },
  {
   "cell_type": "code",
   "execution_count": 52,
   "metadata": {},
   "outputs": [
    {
     "name": "stdout",
     "output_type": "stream",
     "text": [
      "First, let's calculate the total cost for the first year of operations:\n",
      "\n",
      "1. Land cost: $100/sq ft * x sq ft = $100x\n",
      "2. Solar panel cost: $250/sq ft * x sq ft = $250x\n",
      "3. Maintenance cost: $100,000 + $10/sq ft * x sq ft = $100,000 + $10x\n",
      "\n",
      "Total cost: $100x + $250x + $100,000 + $10x = $360x + $100,000\n",
      "\n",
      "Is the student's solution the same as the actual solution just calculated: \n",
      "```\n",
      "No\n",
      "```\n",
      "\n",
      "Student grade:\n",
      "```\n",
      "Incorrect\n",
      "```\n"
     ]
    }
   ],
   "source": [
    "prompt = f\"\"\"\n",
    "Your task is to determine if the student's solution\n",
    "is correct or not.\n",
    "To solve the problem do the following:\n",
    "- First, work out your own solution to the problem including the final total. \n",
    "- Then compare your solution to the student's solution \n",
    "and evaluate if the student's solution is correct or not. \n",
    "Don't decide if the student's solution is correct until \n",
    "you have done the problem yourself.\n",
    "\n",
    "Use the following format:\n",
    "Question:\n",
    "```\n",
    "question here\n",
    "```\n",
    "Student's solution:\n",
    "```\n",
    "student's solution here\n",
    "```\n",
    "Actual solution:\n",
    "```\n",
    "steps to work out the solution and your solution here\n",
    "```\n",
    "Is the student's solution the same as actual solution just calculated:\n",
    "```\n",
    "yes or no\n",
    "```\n",
    "Student grade:\n",
    "```\n",
    "correct or incorrect\n",
    "```\n",
    "\n",
    "Question:\n",
    "```\n",
    "I'm building a solar power installation and I need help\n",
    "working out the financial. \n",
    "- Land costs $100 / square foot\n",
    "- I can buy solar panels for $250 / square foot\n",
    "- I negotiated a contract for maintenance that will cost\n",
    "me a flat $100k per year, and an additional $10 / square\n",
    "foot\n",
    "What is the total cost for the first year of operations\n",
    "as a function of the number of square feet.\n",
    "``` \n",
    "Student's solution:\n",
    "```\n",
    "Let x be the size of the installation in square feet.\n",
    "Costs:\n",
    "1. Land cost: 100x\n",
    "2. Solar panel cost: 250x\n",
    "3. Maintenance cost: 100,000 + 100x\n",
    "Total cost: 100x + 250x + 100,000 + 100x = 450x + 100,000\n",
    "```\n",
    "Actual solution:\n",
    "\"\"\"\n",
    "\n",
    "response = get_chat_completion(prompt)\n",
    "print(response)"
   ]
  },
  {
   "cell_type": "markdown",
   "metadata": {},
   "source": [
    "## Hallucination\n",
    "Occurred when the model creates statements that sounds plausible but they are not true\n",
    "This can have a dangerous affect as he information seems to be real and true while they are not so if anyone depends on them can get wrong results\n",
    "\n",
    "### How to Reduce Hallucination\n",
    "- Find relevant information in trusted websites\n",
    "- Direct the model to answer the user prompt based on the relevant information\n"
   ]
  },
  {
   "cell_type": "code",
   "execution_count": 54,
   "metadata": {},
   "outputs": [
    {
     "name": "stdout",
     "output_type": "stream",
     "text": [
      "Sure, here is an article about the AeroGlide UltraSlim Smart Toothbrush by Boie:\n",
      "\n",
      "Introducing the AeroGlide UltraSlim Smart Toothbrush by Boie - revolutionizing the way we think about oral care. Boie, a brand known for its innovative dental hygiene products, has once again raised the bar with their latest creation. The AeroGlide UltraSlim Smart Toothbrush combines cutting-edge technology with minimalist design to deliver a superior brushing experience like never before.\n",
      "\n",
      "One of the standout features of the AeroGlide UltraSlim Smart Toothbrush is its ultra-slim design. Unlike traditional bulky toothbrushes, the AeroGlide is sleek and lightweight, making it easy to maneuver and reach all areas of the mouth. This slim profile also contributes to a comfortable grip, allowing for greater control and precision during brushing.\n",
      "\n",
      "But the real magic of the AeroGlide lies within its smart features. Equipped with advanced sensors and Bluetooth connectivity, this toothbrush provides real-time feedback on your brushing technique. Through the companion app, users can track their brushing habits, receive personalized recommendations, and set goals for improving their oral health.\n",
      "\n",
      "The AeroGlide UltraSlim Smart Toothbrush also boasts a powerful motor that delivers up to 30,000 brush strokes per minute. This high frequency ensures a thorough cleaning, effectively removing plaque and debris from the teeth and gums. With multiple cleaning modes to choose from, including sensitive and whitening, users can customize their brushing experience to suit their individual needs.\n",
      "\n",
      "In addition to its performance, the AeroGlide UltraSlim Smart Toothbrush is also environmentally friendly. The brush heads are made from a durable silicone material that is antimicrobial, reducing the risk of bacterial growth and extending the lifespan of the product. This not only reduces waste but also saves users money in the long run.\n",
      "\n",
      "Overall, the AeroGlide UltraSlim Smart Toothbrush by Boie is a game-changer in the world of oral care. Its sleek design, smart capabilities, and eco-friendly materials make it a standout product that is sure to revolutionize the way we brush our teeth. Say goodbye to traditional toothbrushes and welcome the future of dental hygiene with the AeroGlide UltraSlim Smart Toothbrush.\n"
     ]
    }
   ],
   "source": [
    "## Boie is a real company https://boieusa.com/, but the product is fictional\n",
    "\n",
    "prompt = \"write an article about AeroGlide UltraSlim Smart Toothbrush by Boie\"\n",
    "\n",
    "response = get_chat_completion(prompt)\n",
    "print(response)"
   ]
  },
  {
   "cell_type": "code",
   "execution_count": 56,
   "metadata": {},
   "outputs": [
    {
     "name": "stdout",
     "output_type": "stream",
     "text": [
      "No information found.\n"
     ]
    }
   ],
   "source": [
    "# Good Prompt to avoid Hallucination\n",
    "prompt = f'''\n",
    "write an article about AeroGlide UltraSlim Smart Toothbrush by Boie.\n",
    "write only facts about this product according to sources like Wikipedia, google scholar or other reliable public sources.\n",
    "Avoid any hallucination or fictional information.\n",
    "if you donot find any information in reliable sources, just respond with \"No information found\".\n",
    "'''\n",
    "\n",
    "response = get_chat_completion(prompt)\n",
    "print(response)"
   ]
  }
 ],
 "metadata": {
  "kernelspec": {
   "display_name": "openaienv",
   "language": "python",
   "name": "python3"
  },
  "language_info": {
   "codemirror_mode": {
    "name": "ipython",
    "version": 3
   },
   "file_extension": ".py",
   "mimetype": "text/x-python",
   "name": "python",
   "nbconvert_exporter": "python",
   "pygments_lexer": "ipython3",
   "version": "3.12.1"
  }
 },
 "nbformat": 4,
 "nbformat_minor": 2
}
