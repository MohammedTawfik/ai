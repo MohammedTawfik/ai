{
 "cells": [
  {
   "cell_type": "markdown",
   "metadata": {},
   "source": [
    "# Sentiment Analysis\n",
    "This sample project use Open AI APIs to get the sentiment analysis of user feedback"
   ]
  },
  {
   "cell_type": "code",
   "execution_count": 3,
   "metadata": {},
   "outputs": [
    {
     "data": {
      "text/plain": [
       "'sk-proj-kgNVkcxXAeAtrg4ZLS6hT3BlbkFJD8ZjBTRIneBcuIKmXXL1'"
      ]
     },
     "execution_count": 3,
     "metadata": {},
     "output_type": "execute_result"
    }
   ],
   "source": [
    "import os\n",
    "from dotenv import load_dotenv, find_dotenv\n",
    "# find_dotenv() find .env automatically by walking up directories until it's found \n",
    "# load_dotenv() load the environment variables from the .env file\n",
    "# override=True allows the .env file to override the system environment variables\n",
    "load_dotenv(find_dotenv(), override=True)\n",
    "\n",
    "apiKey = os.environ.get('OPENAI_API_KEY')\n",
    "apiKey"
   ]
  },
  {
   "cell_type": "code",
   "execution_count": 4,
   "metadata": {},
   "outputs": [],
   "source": [
    "from openai import OpenAI\n",
    "client = OpenAI(api_key=apiKey)"
   ]
  },
  {
   "cell_type": "code",
   "execution_count": 20,
   "metadata": {},
   "outputs": [],
   "source": [
    "def get_sentiment_emotion(prompt,emotions):\n",
    "    system_role = f'''\n",
    "    You are an emotionally intelligent assistant. classify the sentiment of the user's text with ONLY ONE  of the following emotions\n",
    "    {emotions} After classifying the text respond with the emotion only.\n",
    "    '''\n",
    "    response = client.chat.completions.create(\n",
    "        model=\"gpt-3.5-turbo\",\n",
    "        messages=[\n",
    "            {\"role\": \"system\", \"content\": system_role},\n",
    "            {\"role\": \"user\", \"content\": prompt}\n",
    "        ],\n",
    "        max_tokens=50,\n",
    "        temperature=0,\n",
    "    )\n",
    "    response = response.choices[0].message.content\n",
    "    return response\n",
    "    \n"
   ]
  },
  {
   "cell_type": "markdown",
   "metadata": {},
   "source": [
    "## Testing The App"
   ]
  },
  {
   "cell_type": "markdown",
   "metadata": {},
   "source": [
    "### Detect Sentiment Analysis for User Feedback"
   ]
  },
  {
   "cell_type": "code",
   "execution_count": 7,
   "metadata": {},
   "outputs": [
    {
     "name": "stdout",
     "output_type": "stream",
     "text": [
      "Negative\n",
      "positive\n"
     ]
    }
   ],
   "source": [
    "emotions = 'positive','negative','neutral'\n",
    "feedback = '''\n",
    "The size is not correct\n",
    "Shorter than normal\n",
    "The material and accessories used are not good\n",
    "I would return it if I was concentrating enough to not lose the return window'''\n",
    "response =get_sentiment_emotion(feedback,emotions)\n",
    "print(response)\n",
    "\n",
    "feedback = '''\n",
    "الشنطة شكلها جميل و عملية …\n",
    "هى صغيرة مقارنة بالصور زى ما الناس موضحة فى التقييمات … لو انت محتاج حاجة صغيرة هتكون مناسبة ليك \n",
    "'''\n",
    "response =get_sentiment_emotion(feedback,emotions)\n",
    "print(response)"
   ]
  },
  {
   "cell_type": "markdown",
   "metadata": {},
   "source": [
    "### Detect Emotions from Text"
   ]
  },
  {
   "cell_type": "code",
   "execution_count": 15,
   "metadata": {},
   "outputs": [
    {
     "name": "stdout",
     "output_type": "stream",
     "text": [
      "tired\n",
      "angry\n",
      "happy\n"
     ]
    }
   ],
   "source": [
    "emotions = 'happy', 'sad', 'angry', 'fearful', 'disgusted', 'surprised', 'neutral','tired'\n",
    "\n",
    "response =get_sentiment_emotion('I am going to sleep',emotions)\n",
    "print(response)\n",
    "\n",
    "print(get_sentiment_emotion('😡',emotions))\n",
    "print(get_sentiment_emotion('😊',emotions))\n",
    "      "
   ]
  }
 ],
 "metadata": {
  "kernelspec": {
   "display_name": "openaienv",
   "language": "python",
   "name": "python3"
  },
  "language_info": {
   "codemirror_mode": {
    "name": "ipython",
    "version": 3
   },
   "file_extension": ".py",
   "mimetype": "text/x-python",
   "name": "python",
   "nbconvert_exporter": "python",
   "pygments_lexer": "ipython3",
   "version": "3.12.1"
  }
 },
 "nbformat": 4,
 "nbformat_minor": 2
}
