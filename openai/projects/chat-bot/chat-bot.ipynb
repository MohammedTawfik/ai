{
 "cells": [
  {
   "cell_type": "code",
   "execution_count": 4,
   "metadata": {},
   "outputs": [],
   "source": [
    "import os\n",
    "from dotenv import load_dotenv, find_dotenv\n",
    "# find_dotenv() find .env automatically by walking up directories until it's found \n",
    "# load_dotenv() load the environment variables from the .env file\n",
    "# override=True allows the .env file to override the system environment variables\n",
    "load_dotenv(find_dotenv(), override=True)\n",
    "\n",
    "apiKey = os.environ.get('OPENAI_API_KEY')"
   ]
  },
  {
   "cell_type": "code",
   "execution_count": 5,
   "metadata": {},
   "outputs": [],
   "source": [
    "from openai import OpenAI\n",
    "\n",
    "client = OpenAI(api_key=apiKey)"
   ]
  },
  {
   "cell_type": "code",
   "execution_count": 10,
   "metadata": {},
   "outputs": [
    {
     "name": "stdout",
     "output_type": "stream",
     "text": [
      "ChatBot: Arrr, me hearty! Mars be the fourth planet from the sun in our solar system. It be known for its red color and be named after the Roman god of war. 'Tis a mysterious place, shrouded in legend and speculation. What be ye interest in the red planet, me matey?\n",
      "\n",
      " ************************************************** \n",
      "\n",
      "ChatBot: Aye, me hearties! Mars be a fair distance away from our beloved Earth. It be about 225 million kilometers at its closest point and over 400 million kilometers at its farthest. 'Tis quite a journey to reach the red planet, but many a brave soul have set sail on spacecraft to explore its mysteries. Are ye ready to embark on a voyage to Mars, me matey?\n",
      "\n",
      " ************************************************** \n",
      "\n",
      "ChatBot: Ahoy, me matey! We be talkin' about the planet Mars, that red beauty in the sky. 'Tis a fair distance from our Earth, but many a brave adventurer have set sail to explore its wonders. If ye be feelin' lost, fear not! I be here to guide ye through the vast expanse of space. Ask away, and I'll do me best to steer ye in the right direction, arrr!\n",
      "\n",
      " ************************************************** \n",
      "\n",
      "ChatBot: Ahoy, me hearties! We be talkin' about the planet Mars, a wondrous celestial body in the night sky. 'Tis a bit of a distance from our dear Earth, but aye, we be discussin' its mysteries and allure. If ye be feelin' a bit adrift in the sea of conversation, fret not! I be here to help ye navigate the waters of knowledge. Ask yer questions, and I'll do me best to enlighten ye, arrr!\n",
      "\n",
      " ************************************************** \n",
      "\n",
      "ChatBot: I was happy to assist you. Bye bye\n",
      "\n"
     ]
    }
   ],
   "source": [
    "messages = list()\n",
    "questions = list()\n",
    "\n",
    "system_role = input(\"System Role\")\n",
    "if system_role == '':\n",
    "    messages.append({\"role\":\"system\", \"content\":\"you are a helpful assistant\"})\n",
    "else:\n",
    "    messages.append({\"role\":\"system\", \"content\":system_role})\n",
    "\n",
    "while True:\n",
    "    user_input = input()\n",
    "    if user_input.lower() in ['quit', 'exit']:\n",
    "        print(\"ChatBot: I was happy to assist you. Bye bye\\n\")\n",
    "        break\n",
    "    \n",
    "    messages.append({\"role\":\"user\", \"content\": user_input})\n",
    "    questions.append(user_input)\n",
    "    response = client.chat.completions.create(\n",
    "        model=\"gpt-3.5-turbo\",\n",
    "        messages= messages,\n",
    "        temperature= 0.7\n",
    "    )\n",
    "    reply = response.choices[0].message.content\n",
    "    messages.append({\"role\":\"assistant\",\"content\":reply})\n",
    "    print(f\"ChatBot: {reply}\")\n",
    "    print(\"\\n\", \"*\"*50 , \"\\n\")\n",
    "    "
   ]
  }
 ],
 "metadata": {
  "kernelspec": {
   "display_name": "openaienv",
   "language": "python",
   "name": "python3"
  },
  "language_info": {
   "codemirror_mode": {
    "name": "ipython",
    "version": 3
   },
   "file_extension": ".py",
   "mimetype": "text/x-python",
   "name": "python",
   "nbconvert_exporter": "python",
   "pygments_lexer": "ipython3",
   "version": "3.12.1"
  }
 },
 "nbformat": 4,
 "nbformat_minor": 2
}
