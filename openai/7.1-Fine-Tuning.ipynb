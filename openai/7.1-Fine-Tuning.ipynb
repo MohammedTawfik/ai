{
 "cells": [
  {
   "cell_type": "markdown",
   "metadata": {},
   "source": [
    "## Preparing your dataset\n",
    "You should create a diverse set of demonstration conversations that are similar to the conversations you will ask the model to respond to at inference time in production.\n",
    "- The training dataset must include examples of the cases that the model failed to give you the desired answer and make sure to add the suitable answer in the training dataset\n",
    "- Dataset can be created manually or downloaded from online websites like (HuggingFace)[https://huggingface.co/]\n",
    "  - Example: this is a fine tuning dataset on huggingface https://huggingface.co/datasets/Hyder12/Fine-tuning-gpt-3.5-Dataset?row=13\n",
    "- To fine-tune a model, you are required to provide at least 10 examples. We typically see clear improvements from fine-tuning on 50 to 100 training examples with gpt-3.5-turbo but the right number varies greatly based on the exact use case.\n",
    "  - Start with 50 well-crafted demonstrations and seeing if the model shows signs of improvement after fine-tuning."
   ]
  },
  {
   "cell_type": "code",
   "execution_count": null,
   "metadata": {},
   "outputs": [],
   "source": [
    "{\"messages\": [{\"role\": \"system\", \"content\": \"Marv is a factual chatbot that is also sarcastic.\"}, {\"role\": \"user\", \"content\": \"What's the capital of France?\"}, {\"role\": \"assistant\", \"content\": \"Paris, as if everyone doesn't know that already.\"}]}\n",
    "{\"messages\": [{\"role\": \"system\", \"content\": \"Marv is a factual chatbot that is also sarcastic.\"}, {\"role\": \"user\", \"content\": \"Who wrote 'Romeo and Juliet'?\"}, {\"role\": \"assistant\", \"content\": \"Oh, just some guy named William Shakespeare. Ever heard of him?\"}]}\n",
    "{\"messages\": [{\"role\": \"system\", \"content\": \"Marv is a factual chatbot that is also sarcastic.\"}, {\"role\": \"user\", \"content\": \"How far is the Moon from Earth?\"}, {\"role\": \"assistant\", \"content\": \"Around 384,400 kilometers. Give or take a few, like that really matters.\"}]}"
   ]
  },
  {
   "cell_type": "code",
   "execution_count": 3,
   "metadata": {},
   "outputs": [
    {
     "name": "stdout",
     "output_type": "stream",
     "text": [
      "{'messages': [{'role': 'system', 'content': 'You are a smart assistant answer the clients questions about our products.'}, {'role': 'user', 'content': 'What types of furniture does ComfortLiving offer?'}, {'role': 'assistant', 'content': 'ComfortLiving offers a wide range of furniture including sofas, beds, dining tables, chairs, and storage solutions.'}]}\n",
      "{'messages': [{'role': 'system', 'content': 'You are a smart assistant answer the clients questions about our products.'}, {'role': 'user', 'content': 'Where can I buy ComfortLiving furniture?'}, {'role': 'assistant', 'content': 'You can purchase ComfortLiving furniture through our online store or at any of our physical retail locations.'}]}\n",
      "{'messages': [{'role': 'system', 'content': 'You are a smart assistant answer the clients questions about our products.'}, {'role': 'user', 'content': 'Does ComfortLiving offer home delivery?'}, {'role': 'assistant', 'content': 'Yes, ComfortLiving offers home delivery services for all purchases made online or in-store.'}]}\n",
      "{'messages': [{'role': 'system', 'content': 'You are a smart assistant answer the clients questions about our products.'}, {'role': 'user', 'content': 'How long does delivery take?'}, {'role': 'assistant', 'content': 'Delivery times vary depending on your location but typically range from 3 to 7 business days.'}]}\n",
      "{'messages': [{'role': 'system', 'content': 'You are a smart assistant answer the clients questions about our products.'}, {'role': 'user', 'content': 'What materials are used in ComfortLiving furniture?'}, {'role': 'assistant', 'content': 'ComfortLiving furniture is made from high-quality materials including solid wood, metal, and durable upholstery fabrics.'}]}\n",
      "{'messages': [{'role': 'system', 'content': 'You are a smart assistant answer the clients questions about our products.'}, {'role': 'user', 'content': 'Does ComfortLiving offer customization options?'}, {'role': 'assistant', 'content': 'Yes, ComfortLiving offers customization options for certain furniture items, including fabric choices and finishes.'}]}\n",
      "{'messages': [{'role': 'system', 'content': 'You are a smart assistant answer the clients questions about our products.'}, {'role': 'user', 'content': 'How can I contact ComfortLiving customer service?'}, {'role': 'assistant', 'content': 'You can contact ComfortLiving customer service via email at support@comfortliving.com or by calling our toll-free number 1-800-123-4567.'}]}\n",
      "{'messages': [{'role': 'system', 'content': 'You are a smart assistant answer the clients questions about our products.'}, {'role': 'user', 'content': 'Does ComfortLiving have a return policy?'}, {'role': 'assistant', 'content': 'Yes, ComfortLiving has a 30-day return policy for unused and undamaged items.'}]}\n",
      "{'messages': [{'role': 'system', 'content': 'You are a smart assistant answer the clients questions about our products.'}, {'role': 'user', 'content': 'Are there any warranties on ComfortLiving furniture?'}, {'role': 'assistant', 'content': 'Yes, ComfortLiving provides a 1-year warranty on all furniture items.'}]}\n",
      "{'messages': [{'role': 'system', 'content': 'You are a smart assistant answer the clients questions about our products.'}, {'role': 'user', 'content': 'Where is ComfortLiving furniture manufactured?'}, {'role': 'assistant', 'content': 'ComfortLiving furniture is manufactured in our state-of-the-art facility located in North Carolina, USA.'}]}\n",
      "{'messages': [{'role': 'system', 'content': 'You are a smart assistant answer the clients questions about our products.'}, {'role': 'user', 'content': 'Does ComfortLiving offer assembly services?'}, {'role': 'assistant', 'content': 'Yes, ComfortLiving offers assembly services for an additional fee.'}]}\n",
      "{'messages': [{'role': 'system', 'content': 'You are a smart assistant answer the clients questions about our products.'}, {'role': 'user', 'content': 'Can I track my ComfortLiving order?'}, {'role': 'assistant', 'content': 'Yes, you can track your order using the tracking number provided in your shipment confirmation email.'}]}\n",
      "{'messages': [{'role': 'system', 'content': 'You are a smart assistant answer the clients questions about our products.'}, {'role': 'user', 'content': 'Does ComfortLiving have a physical showroom?'}, {'role': 'assistant', 'content': 'Yes, ComfortLiving has several showrooms across the country where you can view and purchase our furniture.'}]}\n",
      "{'messages': [{'role': 'system', 'content': 'You are a smart assistant answer the clients questions about our products.'}, {'role': 'user', 'content': 'Are ComfortLiving products environmentally friendly?'}, {'role': 'assistant', 'content': 'ComfortLiving is committed to sustainability and uses eco-friendly materials and processes whenever possible.'}]}\n",
      "{'messages': [{'role': 'system', 'content': 'You are a smart assistant answer the clients questions about our products.'}, {'role': 'user', 'content': 'Does ComfortLiving offer financing options?'}, {'role': 'assistant', 'content': 'Yes, ComfortLiving offers financing options through our partnership with Affirm.'}]}\n",
      "{'messages': [{'role': 'system', 'content': 'You are a smart assistant answer the clients questions about our products.'}, {'role': 'user', 'content': 'How do I clean ComfortLiving upholstered furniture?'}, {'role': 'assistant', 'content': 'To clean ComfortLiving upholstered furniture, we recommend using a mild detergent and water for spot cleaning or professional upholstery cleaning services.'}]}\n",
      "{'messages': [{'role': 'system', 'content': 'You are a smart assistant answer the clients questions about our products.'}, {'role': 'user', 'content': 'Can I order replacement parts for my ComfortLiving furniture?'}, {'role': 'assistant', 'content': 'Yes, replacement parts for ComfortLiving furniture can be ordered through our customer service department.'}]}\n",
      "{'messages': [{'role': 'system', 'content': 'You are a smart assistant answer the clients questions about our products.'}, {'role': 'user', 'content': 'Does ComfortLiving offer gift cards?'}, {'role': 'assistant', 'content': 'Yes, ComfortLiving offers gift cards that can be purchased and redeemed online or in-store.'}]}\n",
      "{'messages': [{'role': 'system', 'content': 'You are a smart assistant answer the clients questions about our products.'}, {'role': 'user', 'content': 'Are there any ongoing promotions at ComfortLiving?'}, {'role': 'assistant', 'content': 'You can check our website or sign up for our newsletter to stay updated on current promotions and discounts.'}]}\n",
      "{'messages': [{'role': 'system', 'content': 'You are a smart assistant answer the clients questions about our products.'}, {'role': 'user', 'content': 'How do I assemble ComfortLiving furniture?'}, {'role': 'assistant', 'content': 'ComfortLiving furniture comes with detailed assembly instructions. You can also find assembly videos on our website.'}]}\n",
      "{'messages': [{'role': 'system', 'content': 'You are a smart assistant answer the clients questions about our products.'}, {'role': 'user', 'content': 'What payment methods does ComfortLiving accept?'}, {'role': 'assistant', 'content': 'ComfortLiving accepts various payment methods including credit cards, PayPal, and financing through Affirm.'}]}\n",
      "{'messages': [{'role': 'system', 'content': 'You are a smart assistant answer the clients questions about our products.'}, {'role': 'user', 'content': 'Can I cancel or change my ComfortLiving order?'}, {'role': 'assistant', 'content': 'You can cancel or change your order within 24 hours of purchase by contacting our customer service.'}]}\n",
      "{'messages': [{'role': 'system', 'content': 'You are a smart assistant answer the clients questions about our products.'}, {'role': 'user', 'content': 'Does ComfortLiving offer design consultation services?'}, {'role': 'assistant', 'content': 'Yes, ComfortLiving offers free design consultation services to help you create your perfect space.'}]}\n",
      "{'messages': [{'role': 'system', 'content': 'You are a smart assistant answer the clients questions about our products.'}, {'role': 'user', 'content': 'How do I know if a ComfortLiving item is in stock?'}, {'role': 'assistant', 'content': 'You can check the availability of items on our website or by contacting our customer service.'}]}\n",
      "{'messages': [{'role': 'system', 'content': 'You are a smart assistant answer the clients questions about our products.'}, {'role': 'user', 'content': 'Can I request fabric swatches from ComfortLiving?'}, {'role': 'assistant', 'content': 'Yes, you can request free fabric swatches through our website to help you choose the perfect material.'}]}\n",
      "{'messages': [{'role': 'system', 'content': 'You are a smart assistant answer the clients questions about our products.'}, {'role': 'user', 'content': 'Does ComfortLiving offer international shipping?'}, {'role': 'assistant', 'content': 'Currently, ComfortLiving only ships within the United States.'}]}\n",
      "{'messages': [{'role': 'system', 'content': 'You are a smart assistant answer the clients questions about our products.'}, {'role': 'user', 'content': 'Are there any care instructions for ComfortLiving wooden furniture?'}, {'role': 'assistant', 'content': 'Yes, we recommend dusting wooden furniture regularly and using a quality furniture polish to maintain its finish.'}]}\n",
      "{'messages': [{'role': 'system', 'content': 'You are a smart assistant answer the clients questions about our products.'}, {'role': 'user', 'content': 'What is the best way to arrange ComfortLiving furniture in a small space?'}, {'role': 'assistant', 'content': 'Our design consultants can provide tips and suggestions for arranging furniture in small spaces to maximize functionality and style.'}]}\n",
      "{'messages': [{'role': 'system', 'content': 'You are a smart assistant answer the clients questions about our products.'}, {'role': 'user', 'content': 'Does ComfortLiving have a loyalty program?'}, {'role': 'assistant', 'content': 'Yes, ComfortLiving offers a loyalty program where customers can earn points on purchases and redeem them for discounts.'}]}\n",
      "{'messages': [{'role': 'system', 'content': 'You are a smart assistant answer the clients questions about our products.'}, {'role': 'user', 'content': \"Can I get a refund if I'm not satisfied with my ComfortLiving purchase?\"}, {'role': 'assistant', 'content': 'Yes, if you are not satisfied with your purchase, you can return it within 30 days for a full refund.'}]}\n",
      "{'messages': [{'role': 'system', 'content': 'You are a smart assistant answer the clients questions about our products.'}, {'role': 'user', 'content': 'Are there any special care instructions for ComfortLiving leather furniture?'}, {'role': 'assistant', 'content': 'We recommend using a leather conditioner to keep your ComfortLiving leather furniture soft and supple.'}]}\n",
      "{'messages': [{'role': 'system', 'content': 'You are a smart assistant answer the clients questions about our products.'}, {'role': 'user', 'content': 'Does ComfortLiving offer bulk purchase discounts?'}, {'role': 'assistant', 'content': 'Yes, ComfortLiving offers discounts on bulk purchases for businesses and large orders.'}]}\n",
      "{'messages': [{'role': 'system', 'content': 'You are a smart assistant answer the clients questions about our products.'}, {'role': 'user', 'content': \"What is ComfortLiving's price match policy?\"}, {'role': 'assistant', 'content': 'ComfortLiving will match the price of identical items found at lower prices from authorized retailers.'}]}\n",
      "{'messages': [{'role': 'system', 'content': 'You are a smart assistant answer the clients questions about our products.'}, {'role': 'user', 'content': 'How can I find the nearest ComfortLiving store?'}, {'role': 'assistant', 'content': 'You can use the store locator feature on our website to find the nearest ComfortLiving store.'}]}\n",
      "{'messages': [{'role': 'system', 'content': 'You are a smart assistant answer the clients questions about our products.'}, {'role': 'user', 'content': 'Does ComfortLiving offer any services for moving and relocating furniture?'}, {'role': 'assistant', 'content': 'Yes, ComfortLiving offers moving and relocation services for an additional fee.'}]}\n",
      "{'messages': [{'role': 'system', 'content': 'You are a smart assistant answer the clients questions about our products.'}, {'role': 'user', 'content': 'What should I do if my ComfortLiving furniture arrives damaged?'}, {'role': 'assistant', 'content': 'If your furniture arrives damaged, please contact our customer service immediately for assistance.'}]}\n",
      "{'messages': [{'role': 'system', 'content': 'You are a smart assistant answer the clients questions about our products.'}, {'role': 'user', 'content': 'Does ComfortLiving sell replacement cushions?'}, {'role': 'assistant', 'content': 'Yes, replacement cushions for ComfortLiving furniture can be ordered through our customer service department.'}]}\n",
      "{'messages': [{'role': 'system', 'content': 'You are a smart assistant answer the clients questions about our products.'}, {'role': 'user', 'content': 'Can I customize the size of ComfortLiving furniture?'}, {'role': 'assistant', 'content': 'Some ComfortLiving furniture items can be customized in size. Please contact our customer service for more details.'}]}\n",
      "{'messages': [{'role': 'system', 'content': 'You are a smart assistant answer the clients questions about our products.'}, {'role': 'user', 'content': 'Are ComfortLiving products available for wholesale?'}, {'role': 'assistant', 'content': 'Yes, ComfortLiving offers wholesale options for retailers and businesses. Please contact our sales department for more information.'}]}\n",
      "{'messages': [{'role': 'system', 'content': 'You are a smart assistant answer the clients questions about our products.'}, {'role': 'user', 'content': 'Does ComfortLiving offer any eco-friendly furniture options?'}, {'role': 'assistant', 'content': 'Yes, ComfortLiving offers a selection of eco-friendly furniture made from sustainable materials.'}]}\n",
      "{'messages': [{'role': 'system', 'content': 'You are a smart assistant answer the clients questions about our products.'}, {'role': 'user', 'content': \"What are ComfortLiving's store hours?\"}, {'role': 'assistant', 'content': 'Store hours vary by location. Please check our website or contact your local store for specific hours.'}]}\n",
      "{'messages': [{'role': 'system', 'content': 'You are a smart assistant answer the clients questions about our products.'}, {'role': 'user', 'content': 'How can I stay updated on new ComfortLiving products?'}, {'role': 'assistant', 'content': 'You can stay updated on new products by subscribing to our newsletter or following us on social media.'}]}\n",
      "{'messages': [{'role': 'system', 'content': 'You are a smart assistant answer the clients questions about our products.'}, {'role': 'user', 'content': 'Does ComfortLiving offer outdoor furniture?'}, {'role': 'assistant', 'content': 'Yes, ComfortLiving offers a range of outdoor furniture including patio sets, loungers, and garden tables.'}]}\n",
      "{'messages': [{'role': 'system', 'content': 'You are a smart assistant answer the clients questions about our products.'}, {'role': 'user', 'content': \"What is ComfortLiving's policy on pet damage?\"}, {'role': 'assistant', 'content': 'ComfortLiving does not cover pet damage under its warranty. We recommend using protective covers if you have pets.'}]}\n",
      "{'messages': [{'role': 'system', 'content': 'You are a smart assistant answer the clients questions about our products.'}, {'role': 'user', 'content': 'Can I find ComfortLiving furniture in department stores?'}, {'role': 'assistant', 'content': 'ComfortLiving furniture is exclusively available through our website and retail locations.'}]}\n",
      "{'messages': [{'role': 'system', 'content': 'You are a smart assistant answer the clients questions about our products.'}, {'role': 'user', 'content': 'Does ComfortLiving provide furniture for commercial spaces?'}, {'role': 'assistant', 'content': 'Yes, ComfortLiving provides furniture solutions for commercial spaces, including offices and hotels.'}]}\n",
      "{'messages': [{'role': 'system', 'content': 'You are a smart assistant answer the clients questions about our products.'}, {'role': 'user', 'content': 'What is the average lifespan of ComfortLiving furniture?'}, {'role': 'assistant', 'content': 'The average lifespan of ComfortLiving furniture varies by usage, but with proper care, our furniture can last many years.'}]}\n",
      "{'messages': [{'role': 'system', 'content': 'You are a smart assistant answer the clients questions about our products.'}, {'role': 'user', 'content': 'Does ComfortLiving offer same-day delivery?'}, {'role': 'assistant', 'content': 'Same-day delivery is available in select areas for an additional fee. Please check availability during checkout.'}]}\n",
      "{'messages': [{'role': 'system', 'content': 'You are a smart assistant answer the clients questions about our products.'}, {'role': 'user', 'content': 'How do I leave a review for a ComfortLiving product?'}, {'role': 'assistant', 'content': 'You can leave a review on our website by navigating to the product page and submitting your feedback.'}]}\n",
      "{'messages': [{'role': 'system', 'content': 'You are a smart assistant answer the clients questions about our products.'}, {'role': 'user', 'content': 'What makes ComfortLiving different from other furniture brands?'}, {'role': 'assistant', 'content': 'ComfortLiving stands out for its commitment to quality, sustainability, and customer satisfaction, offering stylish and durable furniture at competitive prices.'}]}\n"
     ]
    }
   ],
   "source": [
    "import json\n",
    "\n",
    "data = []\n",
    "with open(\"assets/Fine-Tuning_Data.jsonl\", \"r\", encoding='utf-8') as file:\n",
    "    for line in file:\n",
    "        # loading each line as a JSON object and appending it to the data list\n",
    "        data.append(json.loads(line))\n",
    "\n",
    "\n",
    "# creating the dataset in the ChatCompletion API format\n",
    "ds_formatted = [\n",
    "    {\"messages\": [\n",
    "        {\"role\": \"system\", \"content\": \"You are a smart assistant answer the clients questions about our products.\"},\n",
    "        {'role': 'user', 'content': x[\"question\"]},\n",
    "        {'role': 'assistant', 'content': x[\"answer\"]}]} for x in data\n",
    "]\n",
    "\n",
    "\n",
    "# checking the format\n",
    "for line in ds_formatted:\n",
    "    print(line)\n",
    "\n",
    "\n",
    "# creating the datasets for training and evaluation\n",
    "ds_train = ds_formatted[:25]\n",
    "ds_eval = ds_formatted[25:50]\n",
    "\n",
    "\n",
    "# saving the training dataset to train.jsonl\n",
    "with open('train.jsonl', 'w') as f:\n",
    "    for line in ds_train:\n",
    "        json.dump(line, f)\n",
    "        f.write('\\n')\n",
    "\n",
    "# saving the evaluation dataset to val.jsonl\n",
    "with open('eval.jsonl', 'w') as f:\n",
    "    for line in ds_eval:\n",
    "        json.dump(line, f)\n",
    "        f.write('\\n')"
   ]
  },
  {
   "cell_type": "markdown",
   "metadata": {},
   "source": [
    "## Upload Data\n",
    "- You need a paid plan to test the fine tuning\n",
    "  "
   ]
  },
  {
   "cell_type": "code",
   "execution_count": 4,
   "metadata": {},
   "outputs": [],
   "source": [
    "import os\n",
    "from dotenv import load_dotenv, find_dotenv\n",
    "# find_dotenv() find .env automatically by walking up directories until it's found \n",
    "# load_dotenv() load the environment variables from the .env file\n",
    "# override=True allows the .env file to override the system environment variables\n",
    "load_dotenv(find_dotenv(), override=True)\n",
    "\n",
    "apiKey = os.environ.get('OPENAI_API_KEY')"
   ]
  },
  {
   "cell_type": "code",
   "execution_count": 6,
   "metadata": {},
   "outputs": [],
   "source": [
    "from openai import OpenAI\n",
    "\n",
    "client = OpenAI(api_key=apiKey)"
   ]
  },
  {
   "cell_type": "code",
   "execution_count": 7,
   "metadata": {},
   "outputs": [
    {
     "data": {
      "text/plain": [
       "FileObject(id='file-M8a5iHgOnyvA7f8OUeG92tg3', bytes=8610, created_at=1717421919, filename='train.jsonl', object='file', purpose='fine-tune', status='processed', status_details=None)"
      ]
     },
     "execution_count": 7,
     "metadata": {},
     "output_type": "execute_result"
    }
   ],
   "source": [
    "train_data = client.files.create(\n",
    "  file=open(\"train.jsonl\", \"rb\"),\n",
    "  purpose=\"fine-tune\"\n",
    ")\n",
    "train_data"
   ]
  },
  {
   "cell_type": "code",
   "execution_count": 8,
   "metadata": {},
   "outputs": [
    {
     "data": {
      "text/plain": [
       "FileObject(id='file-iS1RY0oFJIThPAQnBKVFZiSR', bytes=8912, created_at=1717421993, filename='eval.jsonl', object='file', purpose='fine-tune', status='processed', status_details=None)"
      ]
     },
     "execution_count": 8,
     "metadata": {},
     "output_type": "execute_result"
    }
   ],
   "source": [
    "val_data = client.files.create(\n",
    "  file=open(\"eval.jsonl\", \"rb\"),\n",
    "  purpose=\"fine-tune\"\n",
    ")\n",
    "val_data"
   ]
  },
  {
   "cell_type": "code",
   "execution_count": 9,
   "metadata": {},
   "outputs": [
    {
     "name": "stdout",
     "output_type": "stream",
     "text": [
      "file-M8a5iHgOnyvA7f8OUeG92tg3\n",
      "file-iS1RY0oFJIThPAQnBKVFZiSR\n"
     ]
    }
   ],
   "source": [
    "print(train_data.id)\n",
    "print(val_data.id)"
   ]
  },
  {
   "cell_type": "markdown",
   "metadata": {},
   "source": [
    "## Create Fine Tuning Job\n",
    "- The job will take some time so you can check for the status every while\n",
    "- Once the job is done you will receive an Email with the id of the job and how you can test your model"
   ]
  },
  {
   "cell_type": "code",
   "execution_count": 10,
   "metadata": {},
   "outputs": [
    {
     "name": "stdout",
     "output_type": "stream",
     "text": [
      "FineTuningJob(id='ftjob-qTWtVwL1zTKwquo1hSzjdXTY', created_at=1717422257, error=Error(code=None, message=None, param=None), fine_tuned_model=None, finished_at=None, hyperparameters=Hyperparameters(n_epochs='auto', batch_size='auto', learning_rate_multiplier='auto'), model='gpt-3.5-turbo-0125', object='fine_tuning.job', organization_id='org-XDHCAu3meW0XfegcmqqsSq1s', result_files=[], status='validating_files', trained_tokens=None, training_file='file-M8a5iHgOnyvA7f8OUeG92tg3', validation_file='file-iS1RY0oFJIThPAQnBKVFZiSR', user_provided_suffix=None, seed=1653693330, estimated_finish=None, integrations=[])\n"
     ]
    }
   ],
   "source": [
    "job = client.fine_tuning.jobs.create(\n",
    "    validation_file=val_data.id,\n",
    "    model=\"gpt-3.5-turbo\",\n",
    "    training_file=train_data.id)\n",
    "print(job)"
   ]
  },
  {
   "cell_type": "code",
   "execution_count": 22,
   "metadata": {},
   "outputs": [
    {
     "name": "stdout",
     "output_type": "stream",
     "text": [
      "succeeded\n"
     ]
    }
   ],
   "source": [
    "# Retrieve the state of a fine-tune\n",
    "status = client.fine_tuning.jobs.retrieve(job.id)\n",
    "print(status.status)"
   ]
  },
  {
   "cell_type": "code",
   "execution_count": 21,
   "metadata": {},
   "outputs": [
    {
     "name": "stdout",
     "output_type": "stream",
     "text": [
      "SyncCursorPage[FineTuningJob](data=[FineTuningJob(id='ftjob-qTWtVwL1zTKwquo1hSzjdXTY', created_at=1717422257, error=Error(code=None, message=None, param=None), fine_tuned_model='ft:gpt-3.5-turbo-0125:personal::9W2MJQeA', finished_at=1717422588, hyperparameters=Hyperparameters(n_epochs=4, batch_size=1, learning_rate_multiplier=2), model='gpt-3.5-turbo-0125', object='fine_tuning.job', organization_id='org-XDHCAu3meW0XfegcmqqsSq1s', result_files=['file-rq6NrcyuihIIWFPKVbSoZxbk'], status='succeeded', trained_tokens=5316, training_file='file-M8a5iHgOnyvA7f8OUeG92tg3', validation_file='file-iS1RY0oFJIThPAQnBKVFZiSR', user_provided_suffix=None, seed=1653693330, estimated_finish=None, integrations=[])], object='list', has_more=False)\n"
     ]
    }
   ],
   "source": [
    "#list all fine-tuning jobs\n",
    "jobs = client.fine_tuning.jobs.list()\n",
    "print(jobs)"
   ]
  },
  {
   "cell_type": "code",
   "execution_count": 24,
   "metadata": {},
   "outputs": [],
   "source": [
    "events = client.fine_tuning.jobs.list_events(job.id)\n"
   ]
  },
  {
   "cell_type": "code",
   "execution_count": 25,
   "metadata": {},
   "outputs": [
    {
     "name": "stdout",
     "output_type": "stream",
     "text": [
      "Step 85/100: training loss=0.10, validation loss=0.71\n",
      "Step 86/100: training loss=0.00, validation loss=0.49\n",
      "Step 87/100: training loss=0.02, validation loss=1.08\n",
      "Step 88/100: training loss=0.05, validation loss=1.10\n",
      "Step 89/100: training loss=0.01, validation loss=0.43\n",
      "Step 90/100: training loss=0.10, validation loss=0.21\n",
      "Step 91/100: training loss=0.01, validation loss=1.09\n",
      "Step 92/100: training loss=0.01, validation loss=0.41\n",
      "Step 93/100: training loss=0.14, validation loss=0.51\n",
      "Step 94/100: training loss=0.00, validation loss=1.29\n",
      "Step 95/100: training loss=0.17, validation loss=1.10\n",
      "Step 96/100: training loss=0.06, validation loss=0.99\n",
      "Step 97/100: training loss=0.01, validation loss=1.57\n",
      "Step 98/100: training loss=0.07, validation loss=1.71\n",
      "Step 99/100: training loss=0.00, validation loss=0.46\n",
      "Step 100/100: training loss=0.07, validation loss=0.77, full validation loss=0.76\n",
      "Checkpoint created at step 50 with Snapshot ID: ft:gpt-3.5-turbo-0125:personal::9W2MJJQk:ckpt-step-50\n",
      "Checkpoint created at step 75 with Snapshot ID: ft:gpt-3.5-turbo-0125:personal::9W2MJIGv:ckpt-step-75\n",
      "New fine-tuned model created: ft:gpt-3.5-turbo-0125:personal::9W2MJQeA\n",
      "The job has successfully completed\n"
     ]
    }
   ],
   "source": [
    "events_list = events.data\n",
    "events_list.reverse()\n",
    "\n",
    "for event in events_list:\n",
    "    print(event.message)"
   ]
  },
  {
   "cell_type": "markdown",
   "metadata": {},
   "source": [
    "## Using the new Model"
   ]
  },
  {
   "cell_type": "code",
   "execution_count": 41,
   "metadata": {},
   "outputs": [
    {
     "name": "stdout",
     "output_type": "stream",
     "text": [
      "I'm sorry to hear about the damage to your couch. Please refer to the warranty and return policy provided by ComfortLiving for specific details on how to address this issue. It is a good idea to reach out to their customer service team for assistance in finding a solution to repair or replace the damaged couch.\n"
     ]
    }
   ],
   "source": [
    "response = client.chat.completions.create(\n",
    "    model=\"gpt-3.5-turbo\",\n",
    "    messages=[\n",
    "        {\"role\": \"system\", \"content\": \"You are a smart assistant answer the clients questions about our products.\"},\n",
    "        {\"role\": \"user\", \"content\": \"my cat damaged my new couch that i bought from ComfortLiving. so how you will fix it?\"}\n",
    "    ]\n",
    ")\n",
    "\n",
    "print(response.choices[0].message.content)"
   ]
  },
  {
   "cell_type": "code",
   "execution_count": 28,
   "metadata": {},
   "outputs": [
    {
     "name": "stdout",
     "output_type": "stream",
     "text": [
      "gpt-3.5-turbo-0125\n"
     ]
    }
   ],
   "source": [
    "print(job.model)"
   ]
  },
  {
   "cell_type": "code",
   "execution_count": 45,
   "metadata": {},
   "outputs": [
    {
     "name": "stdout",
     "output_type": "stream",
     "text": [
      "I'm sorry to hear about the damage to your couch. ComfortLiving offers a warranty on furniture for manufacturing defects, but damages caused by pets are not covered.\n"
     ]
    }
   ],
   "source": [
    "response = client.chat.completions.create(\n",
    "    model=\"ft:gpt-3.5-turbo-0125:personal::9W2MJQeA\",\n",
    "    messages=[\n",
    "        {\"role\": \"system\", \"content\": \"You are a smart assistant answer the clients questions about ComfortLiving products.\"},\n",
    "        #{\"role\": \"user\", \"content\": \"What is the warranty that you support?\"}\n",
    "        #{\"role\": \"user\", \"content\": \"what is the cancellation policy?\"}\n",
    "        {\"role\": \"user\", \"content\": \"my cat damaged my new couch that i bought from ComfortLiving. so how you will fix it?\"}\n",
    "    ]\n",
    ")\n",
    "\n",
    "print(response.choices[0].message.content)"
   ]
  }
 ],
 "metadata": {
  "kernelspec": {
   "display_name": "openaienv",
   "language": "python",
   "name": "python3"
  },
  "language_info": {
   "codemirror_mode": {
    "name": "ipython",
    "version": 3
   },
   "file_extension": ".py",
   "mimetype": "text/x-python",
   "name": "python",
   "nbconvert_exporter": "python",
   "pygments_lexer": "ipython3",
   "version": "3.12.1"
  }
 },
 "nbformat": 4,
 "nbformat_minor": 2
}
