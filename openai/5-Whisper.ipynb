{
 "cells": [
  {
   "cell_type": "markdown",
   "metadata": {},
   "source": [
    "# Whisper\n",
    "Whisper is an automatic speech recognition (ASR) system developed by OpenAI. It is designed to transcribe spoken language into written text with high accuracy. Whisper is known for its robustness and ability to handle various accents, dialects, and noisy environments, making it a versatile tool for converting spoken language into text."
   ]
  },
  {
   "cell_type": "code",
   "execution_count": 4,
   "metadata": {},
   "outputs": [
    {
     "data": {
      "text/plain": [
       "'sk-proj-XQCLLthzsBRnjqitlJRmT3BlbkFJjWbO1ynuAvogChm6FS9X'"
      ]
     },
     "execution_count": 4,
     "metadata": {},
     "output_type": "execute_result"
    }
   ],
   "source": [
    "import os\n",
    "from dotenv import load_dotenv, find_dotenv\n",
    "# find_dotenv() find .env automatically by walking up directories until it's found \n",
    "# load_dotenv() load the environment variables from the .env file\n",
    "# override=True allows the .env file to override the system environment variables\n",
    "load_dotenv(find_dotenv(), override=True)\n",
    "\n",
    "apiKey = os.environ.get('OPENAI_API_KEY')\n",
    "apiKey"
   ]
  },
  {
   "cell_type": "code",
   "execution_count": 5,
   "metadata": {},
   "outputs": [],
   "source": [
    "from openai import OpenAI\n",
    "client = OpenAI(api_key=apiKey)"
   ]
  },
  {
   "cell_type": "markdown",
   "metadata": {},
   "source": [
    "## Create Transcript\n",
    "\n",
    "For more info about the complete list of parameters check this [Audio Docs](https://platform.openai.com/docs/api-reference/audio)"
   ]
  },
  {
   "cell_type": "code",
   "execution_count": 7,
   "metadata": {},
   "outputs": [
    {
     "name": "stdout",
     "output_type": "stream",
     "text": [
      "Stabbing children? I'll kidnap a thousand children before I let this company die, and I'll silence anyone who gets in my way!\n"
     ]
    }
   ],
   "source": [
    "audioFile = open('assets/Monsters.inc-audio.mp3', 'rb')\n",
    "\n",
    "response = client.audio.transcriptions.create(\n",
    "    model=\"whisper-1\",\n",
    "    file=audioFile,\n",
    ")\n",
    "\n",
    "print(response.text)"
   ]
  },
  {
   "cell_type": "markdown",
   "metadata": {},
   "source": [
    "## Translate"
   ]
  },
  {
   "cell_type": "code",
   "execution_count": 10,
   "metadata": {},
   "outputs": [
    {
     "name": "stdout",
     "output_type": "stream",
     "text": [
      "Hello? Great, dad! It's really great here with the lions. Only this lion here, your BQ, is not here. He's probably sleeping inside, right? Not today. Because today the lion is not inside, but... ...not even here. But? With the doctor. Once a year he is examined, vaccinated, something like that. I understand. But now tell me, how was it at school? Good. The patch on your forehead, where did it come from? At the school yard. Doesn't matter! Really, dad, doesn't matter! No, it doesn't matter. They said things about you.\n"
     ]
    }
   ],
   "source": [
    "german_audio = open('assets/german.mp3', 'rb')\n",
    "response = client.audio.translations.create(\n",
    "    model=\"whisper-1\",\n",
    "    file=german_audio)\n",
    "\n",
    "print(response.text)"
   ]
  },
  {
   "cell_type": "markdown",
   "metadata": {},
   "source": [
    "# Text To Speech\n",
    "\n",
    "(Guide)[https://platform.openai.com/docs/guides/text-to-speech]\n",
    "(API Reference)[https://platform.openai.com/docs/api-reference/audio/createSpeech]"
   ]
  },
  {
   "cell_type": "code",
   "execution_count": 14,
   "metadata": {},
   "outputs": [
    {
     "name": "stdout",
     "output_type": "stream",
     "text": [
      "Audio saved to output.mp3\n"
     ]
    }
   ],
   "source": [
    "text = '''\n",
    "\n",
    "الذكاء الاصطناعي: يطل برأسه ليغيّر حياتنا\n",
    "العقل البشري المذهل يخطو خطوة جديدة نحو المستقبل مع الذكاء الاصطناعي (الذكاء الاصطناعي). هذا المجال المتطور بسرعة سيغير عالمنا بطرق لم نتخيلها بعد.\n",
    "\n",
    "في مجالات العمل:\n",
    "ستقوم برامج الذكاء الاصطناعي بأتمتة المهام المتكررة، مما يحرر وقتنا للتفكير الإبداعي والابتكار.\n",
    "\n",
    "في الرعاية الصحية:\n",
    "سيساعد الذكاء الاصطناعي في تشخيص الأمراض بشكل أسرع وأكثر دقة، بالإضافة إلى تطوير علاجات جديدة.\n",
    "\n",
    "في الحياة اليومية:\n",
    "ستوفر لنا مساعدات منزلية ذكية، وسيارات ذاتية القيادة، وأجهزة تفاعلية تجعل حياتنا أسهل وأكثر راحة.\n",
    "\n",
    "ولكن هناك تحديات أيضًا:\n",
    "يجب علينا التأكد من استخدام الذكاء الاصطناعي بطريقة أخلاقية، وأن يتوفر للجميع وليس للبعض فقط.\n",
    "\n",
    "بشكل عام، يعد الذكاء الاصطناعي قوة عظيمة يمكن أن تغير حياتنا للأفضل. المهم هو أن نستعد ونتكيف مع هذا التغيير المثير.\n",
    "'''\n",
    "\n",
    "response = client.audio.speech.create(\n",
    "    model=\"tts-1\",\n",
    "    voice=\"alloy\",\n",
    "    input=text,\n",
    ")\n",
    "\n",
    "# response.stream_to_file(\"output.mp3\") # this method is deprecated\n",
    "\n",
    "\n",
    "\n",
    "\n",
    "# Stream the response content to a file\n",
    "with open(\"TTS-Output.mp3\", \"wb\") as output_file:\n",
    "    for chunk in response.iter_bytes():\n",
    "        if chunk:\n",
    "            output_file.write(chunk)\n",
    "\n",
    "print(\"Audio saved to output.mp3\")"
   ]
  }
 ],
 "metadata": {
  "kernelspec": {
   "display_name": "openaienv",
   "language": "python",
   "name": "python3"
  },
  "language_info": {
   "codemirror_mode": {
    "name": "ipython",
    "version": 3
   },
   "file_extension": ".py",
   "mimetype": "text/x-python",
   "name": "python",
   "nbconvert_exporter": "python",
   "pygments_lexer": "ipython3",
   "version": "3.12.1"
  }
 },
 "nbformat": 4,
 "nbformat_minor": 2
}
