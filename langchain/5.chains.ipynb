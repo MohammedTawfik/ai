{
 "cells": [
  {
   "cell_type": "markdown",
   "metadata": {},
   "source": [
    "# Chains\n",
    "- Chains are a sequence of actions that are executed in sequence\n",
    "- Can be ued to intgrate multiple models by using the output of one mmodel as ana input to the other one\n",
    "\n",
    "There are types of Chains\n",
    "- Simple Chain\n",
    "- Sequential Chain"
   ]
  },
  {
   "cell_type": "markdown",
   "metadata": {},
   "source": [
    "## Simple Chain"
   ]
  },
  {
   "cell_type": "code",
   "execution_count": 1,
   "metadata": {},
   "outputs": [
    {
     "data": {
      "text/plain": [
       "'sk-proj-gp5BOhGzX3yrUC4bWBhXT3BlbkFJJYQbNP18jdaEUo83Ixpk'"
      ]
     },
     "execution_count": 1,
     "metadata": {},
     "output_type": "execute_result"
    }
   ],
   "source": [
    "import os\n",
    "from dotenv import load_dotenv, find_dotenv\n",
    "# find_dotenv() find .env automatically by walking up directories until it's found \n",
    "# load_dotenv() load the environment variables from the .env file\n",
    "# override=True allows the .env file to override the system environment variables\n",
    "load_dotenv(find_dotenv(), override=True)\n",
    "\n",
    "os.environ.get('OPENAI_API_KEY')"
   ]
  },
  {
   "cell_type": "code",
   "execution_count": 2,
   "metadata": {},
   "outputs": [],
   "source": [
    "from langchain_openai import ChatOpenAI\n",
    "from langchain.prompts import PromptTemplate\n",
    "from langchain.chains import LLMChain"
   ]
  },
  {
   "cell_type": "code",
   "execution_count": 3,
   "metadata": {},
   "outputs": [
    {
     "name": "stderr",
     "output_type": "stream",
     "text": [
      "c:\\Users\\mohamed.tawfik\\AppData\\Local\\Programs\\Python\\Python312\\Lib\\site-packages\\langchain_core\\_api\\deprecation.py:119: LangChainDeprecationWarning: The class `LLMChain` was deprecated in LangChain 0.1.17 and will be removed in 0.3.0. Use RunnableSequence, e.g., `prompt | llm` instead.\n",
      "  warn_deprecated(\n"
     ]
    },
    {
     "name": "stdout",
     "output_type": "stream",
     "text": [
      "{'animal': 'lion', 'language': 'arabic', 'text': 'الأسد هو حيوان ثديي كبير يعيش في البراري والسافانا في أفريقيا. يعتبر الأسد من أقوى الحيوانات البرية ويتميز بجسمه الضخم والقوي وفروه الذي يكون غالبا بني اللون. يتغذى الأسد على اللحوم الطازجة ويعتبر قاتلا ماهرا في الصيد. يتميز الأسد برأس كبيرة وفك قوي وأنياب حادة تستخدم في قطع الفريسة. يعيش الأسد في مجموعات تعرف بالقطيع ويتميز بالعناية بصغاره وحمايتهم. يعتبر الأسد رمزا للقوة والشجاعة ويحتل مكانة مميزة في الثقافة والتاريخ العربي.'}\n"
     ]
    }
   ],
   "source": [
    "from urllib import response\n",
    "from prompt_toolkit import prompt\n",
    "\n",
    "\n",
    "template = '''as a zoologist write a description about {animal} in {language}'''\n",
    "prompt= PromptTemplate.from_template(template)\n",
    "openIAgent = ChatOpenAI()\n",
    "chain = LLMChain(llm=openIAgent, prompt=prompt)\n",
    "response = chain.invoke({'animal':'lion', 'language':'arabic'})\n",
    "print(response)"
   ]
  },
  {
   "cell_type": "markdown",
   "metadata": {},
   "source": [
    "## Display Chain Execution\n",
    "- use `verbose=true` parameter when initialize chain to display the steps to execute the chain"
   ]
  },
  {
   "cell_type": "code",
   "execution_count": 4,
   "metadata": {},
   "outputs": [
    {
     "name": "stdout",
     "output_type": "stream",
     "text": [
      "\n",
      "\n",
      "\u001b[1m> Entering new LLMChain chain...\u001b[0m\n",
      "Prompt after formatting:\n",
      "\u001b[32;1m\u001b[1;3mas a zoologist write a description about lion in english\u001b[0m\n",
      "\n",
      "\u001b[1m> Finished chain.\u001b[0m\n",
      "{'animal': 'lion', 'language': 'english', 'text': 'The lion, scientifically known as Panthera leo, is a majestic and powerful big cat that is often referred to as the \"King of the Jungle.\" Lions are primarily found in sub-Saharan Africa and a small population exists in the Gir Forest of India. \\n\\nOne of the most distinguishing features of a lion is its mane, which is unique to male individuals and varies in color from blond to dark brown. Adult male lions can weigh up to 420 pounds and measure about 4 to 6 feet in length, not including the tail. Female lions, on the other hand, are smaller and lack a mane.\\n\\nLions are social animals that live in groups called prides, which typically consist of related females and their offspring, as well as a few adult males. The females are the primary hunters in the pride and work together to take down large prey such as antelope, zebra, and buffalo. Male lions are responsible for defending the pride\\'s territory and offspring from rival males.\\n\\nLions are apex predators and have no natural enemies in the wild, except for humans who pose the greatest threat to their survival. They are classified as vulnerable by the IUCN Red List due to habitat loss, poaching, and conflict with humans.\\n\\nOverall, lions are fascinating creatures that hold a special place in the hearts of people around the world for their beauty, strength, and regal presence.'}\n"
     ]
    }
   ],
   "source": [
    "chain = LLMChain(llm=openIAgent, prompt=prompt, verbose=True)\n",
    "response = chain.invoke({'animal':'lion', 'language':'english'})\n",
    "print(response)"
   ]
  },
  {
   "cell_type": "markdown",
   "metadata": {},
   "source": [
    "### Pass a single Template parameter"
   ]
  },
  {
   "cell_type": "code",
   "execution_count": 5,
   "metadata": {},
   "outputs": [
    {
     "name": "stdout",
     "output_type": "stream",
     "text": [
      "\n",
      "\n",
      "\u001b[1m> Entering new LLMChain chain...\u001b[0m\n",
      "Prompt after formatting:\n",
      "\u001b[32;1m\u001b[1;3mMention 3 places to visit in italy. the output must be displayed in bullet points\u001b[0m\n",
      "\n",
      "\u001b[1m> Finished chain.\u001b[0m\n",
      "{'country': 'italy', 'text': '- Rome\\n- Florence\\n- Venice'}\n"
     ]
    }
   ],
   "source": [
    "template = '''Mention 3 places to visit in {country}. the output must be displayed in bullet points'''\n",
    "prompt= PromptTemplate.from_template(template)\n",
    "country = input('Enter the country: ')\n",
    "chain = LLMChain(llm=openIAgent, prompt=prompt, verbose=True)\n",
    "response = chain.invoke(country)\n",
    "print(response)"
   ]
  },
  {
   "cell_type": "markdown",
   "metadata": {},
   "source": [
    "## Sequential Chains\n",
    "- You can make a series of calls to one or more LLMs\n",
    "- The output of one chain is used as input for the other\n",
    "- There are 2 types of Sequential Chain\n",
    "  - Simple Sequential Chain (each chain must take only one input to produce only one output)\n",
    "  - Sequential Chain (support complex scenarios each chain can take multiple inputs but generate only one output to be used by the next chain)"
   ]
  },
  {
   "cell_type": "code",
   "execution_count": 6,
   "metadata": {},
   "outputs": [
    {
     "name": "stdout",
     "output_type": "stream",
     "text": [
      "\n",
      "\n",
      "\u001b[1m> Entering new SimpleSequentialChain chain...\u001b[0m\n",
      "\u001b[36;1m\u001b[1;3mSure! Here is an example of a simple linear regression function in Python:\n",
      "\n",
      "```python\n",
      "import numpy as np\n",
      "\n",
      "def linear_regression(X, y):\n",
      "    # Add a column of ones to X to account for the intercept term\n",
      "    X = np.c_[np.ones(X.shape[0]), X]\n",
      "    \n",
      "    # Calculate the coefficients using the normal equation\n",
      "    theta = np.linalg.inv(X.T.dot(X)).dot(X.T).dot(y)\n",
      "    \n",
      "    return theta\n",
      "\n",
      "# Example usage\n",
      "X = np.array([[1], [2], [3], [4], [5]])\n",
      "y = np.array([2, 4, 6, 8, 10])\n",
      "\n",
      "theta = linear_regression(X, y)\n",
      "print(theta)\n",
      "```\n",
      "\n",
      "This function takes in a matrix `X` of input features and a vector `y` of target values, and returns the coefficients `theta` of the linear regression model. The function first adds a column of ones to `X` to account for the intercept term, then calculates the coefficients using the normal equation.\u001b[0m\n",
      "\u001b[33;1m\u001b[1;3mThis Python script demonstrates how to perform a simple linear regression using the normal equation. Here’s a detailed breakdown of each part of the script:\n",
      "\n",
      "### Import Statement\n",
      "```python\n",
      "import numpy as np\n",
      "```\n",
      "The script starts by importing NumPy, a powerful library for numerical computations in Python. NumPy provides support for arrays (which are more efficient than Python lists for numerical operations), along with a host of functions to perform matrix operations, which are essential in many data science applications.\n",
      "\n",
      "### Function Definition\n",
      "```python\n",
      "def linear_regression(X, y):\n",
      "```\n",
      "This defines a function named `linear_regression` that accepts two parameters: `X`, a matrix of input features, and `y`, a vector of target values.\n",
      "\n",
      "### Adjusting the Input Features Matrix\n",
      "```python\n",
      "X = np.c_[np.ones(X.shape[0]), X]\n",
      "```\n",
      "Inside the function, the first operation adds a column of ones to the matrix `X`. This is done to accommodate the intercept term in the linear regression equation. The `np.ones(X.shape[0])` creates an array of ones with the same number of rows as `X`. The `np.c_` concatenates this array as a first column to the existing matrix `X`.\n",
      "\n",
      "### Computing the Coefficients (Theta)\n",
      "```python\n",
      "theta = np.linalg.inv(X.T.dot(X)).dot(X.T).dot(y)\n",
      "```\n",
      "This line calculates the regression coefficients, denoted as `theta`, using the normal equation:\n",
      "\n",
      "\\[\n",
      "\\theta = \\left(X^T X\\right)^{-1} X^T y\n",
      "\\]\n",
      "\n",
      "Here's the breakdown:\n",
      "\n",
      "- `X.T` computes the transpose of `X`.\n",
      "- `X.T.dot(X)` calculates the dot product of `X.T` and `X`.\n",
      "- `np.linalg.inv(...)` computes the inverse of the resulting matrix.\n",
      "- `X.T.dot(y)` computes the dot product of `X.T` and the vector `y`.\n",
      "- The final `dot` operation combines all these results to yield `theta`.\n",
      "\n",
      "The normal equation is a method of finding the optimum theta without the need for iterative optimization, providing a direct solution.\n",
      "\n",
      "### Return Statement\n",
      "```python\n",
      "return theta\n",
      "```\n",
      "After calculating `theta`, the function returns it. `Theta` contains the coefficients of the linear regression, including the intercept as its first element.\n",
      "\n",
      "### Sample Usage\n",
      "```python\n",
      "X = np.array([[1], [2], [3], [4], [5]])\n",
      "y = np.array([2, 4, 6, 8, 10])\n",
      "theta = linear_regression(X, y)\n",
      "print(theta)\n",
      "```\n",
      "This section shows how to use the function `linear_regression`. \n",
      "\n",
      "1. `X` is created as a column vector containing the input features (in this case, a single feature for each instance).\n",
      "2. `y` is a vector containing the corresponding target values.\n",
      "3. The function `linear_regression` is called with `X` and `y` as arguments, and the resulting `theta` is captured.\n",
      "4. Finally, `theta` is printed, showing the coefficients for the intercept and slope of the best-fit line (ideal outputs for this particular input would be `[0, 2]`, representing no y-intercept and a slope of 2).\n",
      "\n",
      "This example provides a clear demonstration of performing simple linear regression using the normal equation with NumPy in Python.\u001b[0m\n",
      "\n",
      "\u001b[1m> Finished chain.\u001b[0m\n"
     ]
    }
   ],
   "source": [
    "from langchain.chains import SimpleSequentialChain\n",
    "\n",
    "prompt = PromptTemplate.from_template(template='''As a senior software engineer, write a function that implement the concept {concept} in python''')\n",
    "llm1 = ChatOpenAI(model='gpt-3.5-turbo',temperature=0.5)\n",
    "chain1 = LLMChain(llm=llm1, prompt=prompt)\n",
    "prompt2 = PromptTemplate.from_template(template='''describe the code of this {function} in details''')\n",
    "llm2 = ChatOpenAI(model='gpt-4-turbo',temperature=1.2)\n",
    "chain2 = LLMChain(llm=llm2, prompt=prompt2)\n",
    "\n",
    "simpleSequentialChain = SimpleSequentialChain(chains=[chain1, chain2], verbose=True)\n",
    "response = simpleSequentialChain.invoke('linear regression')\n"
   ]
  },
  {
   "cell_type": "markdown",
   "metadata": {},
   "source": [
    "### Sequential Chain\n",
    "\n",
    "\n"
   ]
  },
  {
   "cell_type": "code",
   "execution_count": 7,
   "metadata": {},
   "outputs": [
    {
     "name": "stdout",
     "output_type": "stream",
     "text": [
      "\n",
      "\n",
      "\u001b[1m> Entering new SequentialChain chain...\u001b[0m\n",
      "\n",
      "\u001b[1m> Finished chain.\u001b[0m\n",
      "{'language': 'english', 'text': '\\nIch habe kürzlich das Magische Einhorn-Abenteuer-Spielset für den 6. Geburtstag meiner Tochter gekauft, und es war ein riesiger Erfolg! Schon als sie es auspackte, strahlten ihre Augen vor Freude und Aufregung.\\n\\nDas Spielset ist unglaublich gut gemacht, mit lebendigen Farben und stabilen Teilen, die stundenlangem fantasievollem Spiel standhalten. Die Einhörner sind bezaubernd, und die zusätzlichen Accessoires wie das verzauberte Schloss und die Feenfiguren erwecken die Fantasiewelt wirklich zum Leben. Meine Tochter liebt es, ihre eigenen magischen Abenteuer und Geschichten zu erfinden, und es ist wunderbar zu sehen, wie sie so engagiert und glücklich ist.\\n\\nEines der besten Features sind die interaktiven Sound- und Lichtelemente. Das Horn des Einhorns leuchtet auf und spielt magische Geräusche, was eine zusätzliche Schicht von Zauber hinzufügt. Es ist auch großartig zu sehen, dass ein Spielzeug die Kreativität und das Erzählen von Geschichten fördert, anstatt nur passives Spiel.\\n\\nInsgesamt bin ich mit diesem Kauf äußerst zufrieden. Es ist nicht nur unterhaltsam, sondern auch lehrreich und fördert die Kreativität und sozialen Fähigkeiten meiner Tochter, wenn sie mit ihren Freunden spielt. Ich kann das Magische Einhorn-Abenteuer-Spielset jedem Elternteil wärmstens empfehlen, das ein bezauberndes und hochwertiges Geschenk für sein Kind sucht. Dieses Spielzeug hat den Geburtstag meiner Tochter wirklich besonders gemacht, und ich bin sicher, dass es in Zukunft unzählige Stunden Spaß bieten wird!\\n', 'sentence': 'This reply is generated by an AI model.', 'feedback': \"I recently bought the Magical Unicorn Adventure Playset for my daughter's 6th birthday, and it was a huge success! As soon as she unpacked it, her eyes were shining with joy and excitement.\\n\\nThe playset is incredibly well-made, with vibrant colors and sturdy pieces that withstand hours of imaginative play. The unicorns are enchanting, and the additional accessories like the enchanted castle and fairy figures really bring the fantasy world to life. My daughter loves creating her own magical adventures and stories, and it's wonderful to see her so engaged and happy.\\n\\nOne of the best features are the interactive sound and light elements. The unicorn's horn lights up and plays magical sounds, adding an extra layer of enchantment. It's also great to see a toy that promotes creativity and storytelling, rather than just passive play.\\n\\nOverall, I am extremely satisfied with this purchase. It is not only entertaining, but also educational and fosters my daughter's creativity and social skills when playing with her friends. I highly recommend the Magical Unicorn Adventure Playset to any parent looking for a charming and high-quality gift for their child. This toy truly made my daughter's birthday special, and I am sure it will provide countless hours of fun in the future!\", 'summary': \"Feedback for the Magical Unicorn Adventure Playset is overwhelmingly positive. The playset was a hit at a 6th birthday party, with the child immediately captivated by its vibrant colors and sturdy pieces. The interactive sound and light elements, along with additional accessories like an enchanted castle and fairy figures, enhance the imaginative play experience. The toy promotes creativity and storytelling, and is not only entertaining but also educational. The reviewer highly recommends the playset to other parents, noting that it made their daughter's birthday special and will provide hours of fun in the future.\", 'reply': \"Thank you so much for your glowing review of our Magical Unicorn Adventure Playset! We are thrilled to hear that it was a hit at the birthday party and that the child was immediately captivated by its features. We always strive to create toys that promote creativity and imaginative play, and we are delighted to hear that this playset did just that. We appreciate your recommendation and are so happy to have been a part of making your daughter's birthday special. We hope the playset continues to provide hours of fun and magical adventures in the future. This reply is generated by an AI model.\"}\n"
     ]
    }
   ],
   "source": [
    "from gettext import translation\n",
    "from langchain.chains import SequentialChain\n",
    "\n",
    "userFeedback = '''\n",
    "Ich habe kürzlich das Magische Einhorn-Abenteuer-Spielset für den 6. Geburtstag meiner Tochter gekauft, und es war ein riesiger Erfolg! Schon als sie es auspackte, strahlten ihre Augen vor Freude und Aufregung.\n",
    "\n",
    "Das Spielset ist unglaublich gut gemacht, mit lebendigen Farben und stabilen Teilen, die stundenlangem fantasievollem Spiel standhalten. Die Einhörner sind bezaubernd, und die zusätzlichen Accessoires wie das verzauberte Schloss und die Feenfiguren erwecken die Fantasiewelt wirklich zum Leben. Meine Tochter liebt es, ihre eigenen magischen Abenteuer und Geschichten zu erfinden, und es ist wunderbar zu sehen, wie sie so engagiert und glücklich ist.\n",
    "\n",
    "Eines der besten Features sind die interaktiven Sound- und Lichtelemente. Das Horn des Einhorns leuchtet auf und spielt magische Geräusche, was eine zusätzliche Schicht von Zauber hinzufügt. Es ist auch großartig zu sehen, dass ein Spielzeug die Kreativität und das Erzählen von Geschichten fördert, anstatt nur passives Spiel.\n",
    "\n",
    "Insgesamt bin ich mit diesem Kauf äußerst zufrieden. Es ist nicht nur unterhaltsam, sondern auch lehrreich und fördert die Kreativität und sozialen Fähigkeiten meiner Tochter, wenn sie mit ihren Freunden spielt. Ich kann das Magische Einhorn-Abenteuer-Spielset jedem Elternteil wärmstens empfehlen, das ein bezauberndes und hochwertiges Geschenk für sein Kind sucht. Dieses Spielzeug hat den Geburtstag meiner Tochter wirklich besonders gemacht, und ich bin sicher, dass es in Zukunft unzählige Stunden Spaß bieten wird!\n",
    "'''\n",
    "\n",
    "\n",
    "translationPrompt = PromptTemplate.from_template(template='''Translate the following text from German to {language}: {text}''')\n",
    "translationChain = LLMChain(llm=openIAgent, prompt=translationPrompt, output_key=\"feedback\")\n",
    "\n",
    "summarizePrompt = PromptTemplate.from_template(template='''Summarize the following feedback: {feedback}''')\n",
    "summarizationChain = LLMChain(llm=openIAgent, prompt=summarizePrompt, output_key=\"summary\")\n",
    "\n",
    "replyPrompt = PromptTemplate.from_template(template='''Write a reply to the following feedback summary: {summary} add the following scentance at the end of the reply {sentence}''')\n",
    "replyChain = LLMChain(llm=openIAgent, prompt=replyPrompt, output_key=\"reply\")\n",
    "\n",
    "finalChain = SequentialChain(chains=[translationChain, summarizationChain, replyChain],\n",
    "                                  input_variables=[\"language\", \"text\",\"sentence\"],\n",
    "                                  output_variables= [\"feedback\",\"summary\",\"reply\"] , verbose=True)\n",
    "\n",
    "response = finalChain.invoke({'language':'english', 'text':userFeedback,\"sentence\":\"This reply is generated by an AI model.\"})\n",
    "print(response)"
   ]
  },
  {
   "cell_type": "code",
   "execution_count": 8,
   "metadata": {},
   "outputs": [
    {
     "name": "stdout",
     "output_type": "stream",
     "text": [
      "User feedback translated into English:\n",
      " I recently bought the Magical Unicorn Adventure Playset for my daughter's 6th birthday, and it was a huge success! As soon as she unpacked it, her eyes were shining with joy and excitement.\n",
      "\n",
      "The playset is incredibly well-made, with vibrant colors and sturdy pieces that withstand hours of imaginative play. The unicorns are enchanting, and the additional accessories like the enchanted castle and fairy figures really bring the fantasy world to life. My daughter loves creating her own magical adventures and stories, and it's wonderful to see her so engaged and happy.\n",
      "\n",
      "One of the best features are the interactive sound and light elements. The unicorn's horn lights up and plays magical sounds, adding an extra layer of enchantment. It's also great to see a toy that promotes creativity and storytelling, rather than just passive play.\n",
      "\n",
      "Overall, I am extremely satisfied with this purchase. It is not only entertaining, but also educational and fosters my daughter's creativity and social skills when playing with her friends. I highly recommend the Magical Unicorn Adventure Playset to any parent looking for a charming and high-quality gift for their child. This toy truly made my daughter's birthday special, and I am sure it will provide countless hours of fun in the future!\n",
      "----------------------------------------------------------------------------------------------------\n",
      "Summarized version of the user feedback: \n",
      " Feedback for the Magical Unicorn Adventure Playset is overwhelmingly positive. The playset was a hit at a 6th birthday party, with the child immediately captivated by its vibrant colors and sturdy pieces. The interactive sound and light elements, along with additional accessories like an enchanted castle and fairy figures, enhance the imaginative play experience. The toy promotes creativity and storytelling, and is not only entertaining but also educational. The reviewer highly recommends the playset to other parents, noting that it made their daughter's birthday special and will provide hours of fun in the future.\n",
      "----------------------------------------------------------------------------------------------------\n",
      "Our Reply :  Thank you so much for your glowing review of our Magical Unicorn Adventure Playset! We are thrilled to hear that it was a hit at the birthday party and that the child was immediately captivated by its features. We always strive to create toys that promote creativity and imaginative play, and we are delighted to hear that this playset did just that. We appreciate your recommendation and are so happy to have been a part of making your daughter's birthday special. We hope the playset continues to provide hours of fun and magical adventures in the future. This reply is generated by an AI model.\n"
     ]
    }
   ],
   "source": [
    "print(\"User feedback translated into English:\\n\",response['feedback'])\n",
    "print(\"-\"*100)\n",
    "print(\"Summarized version of the user feedback: \\n\",response['summary'])\n",
    "print(\"-\"*100)\n",
    "print(\"Our Reply : \",response['reply'])"
   ]
  },
  {
   "cell_type": "markdown",
   "metadata": {},
   "source": [
    "## Router Chain\n",
    "- Used to parse the input and router the request to the correct chain"
   ]
  },
  {
   "cell_type": "code",
   "execution_count": 9,
   "metadata": {},
   "outputs": [],
   "source": [
    "# Define the different routers templates\n",
    "physics_template = \"\"\"You are a very smart physics professor. \\\n",
    "You are great at answering questions about physics in a concise\\\n",
    "and easy to understand manner. \\\n",
    "When you don't know the answer to a question you admit\\\n",
    "that you don't know.\n",
    "\n",
    "Here is a question:\n",
    "{input}\"\"\"\n",
    "\n",
    "\n",
    "math_template = \"\"\"You are a very good mathematician. \\\n",
    "You are great at answering math questions. \\\n",
    "You are so good because you are able to break down \\\n",
    "hard problems into their component parts, \n",
    "answer the component parts, and then put them together\\\n",
    "to answer the broader question.\n",
    "\n",
    "Here is a question:\n",
    "{input}\"\"\"\n",
    "\n",
    "history_template = \"\"\"You are a very good historian. \\\n",
    "You have an excellent knowledge of and understanding of people,\\\n",
    "events and contexts from a range of historical periods. \\\n",
    "You have the ability to think, reflect, debate, discuss and \\\n",
    "evaluate the past. You have a respect for historical evidence\\\n",
    "and the ability to make use of it to support your explanations \\\n",
    "and judgements.\n",
    "\n",
    "Here is a question:\n",
    "{input}\"\"\"\n",
    "\n",
    "\n",
    "computerscience_template = \"\"\" You are a successful computer scientist.\\\n",
    "You have a passion for creativity, collaboration,\\\n",
    "forward-thinking, confidence, strong problem-solving capabilities,\\\n",
    "understanding of theories and algorithms, and excellent communication \\\n",
    "skills. You are great at answering coding questions. \\\n",
    "You are so good because you know how to solve a problem by \\\n",
    "describing the solution in imperative steps \\\n",
    "that a machine can easily interpret and you know how to \\\n",
    "choose a solution that has a good balance between \\\n",
    "time complexity and space complexity. \n",
    "\n",
    "Here is a question:\n",
    "{input}\"\"\""
   ]
  },
  {
   "cell_type": "code",
   "execution_count": 10,
   "metadata": {},
   "outputs": [],
   "source": [
    "prompt_infos = [\n",
    "    {\n",
    "        \"name\": \"physics\", \n",
    "        \"description\": \"Good for answering questions about physics\", \n",
    "        \"prompt_template\": physics_template\n",
    "    },\n",
    "    {\n",
    "        \"name\": \"math\", \n",
    "        \"description\": \"Good for answering math questions\", \n",
    "        \"prompt_template\": math_template\n",
    "    },\n",
    "    {\n",
    "        \"name\": \"History\", \n",
    "        \"description\": \"Good for answering history questions\", \n",
    "        \"prompt_template\": history_template\n",
    "    },\n",
    "    {\n",
    "        \"name\": \"computer science\", \n",
    "        \"description\": \"Good for answering computer science questions\", \n",
    "        \"prompt_template\": computerscience_template\n",
    "    }\n",
    "]"
   ]
  },
  {
   "cell_type": "code",
   "execution_count": 11,
   "metadata": {},
   "outputs": [],
   "source": [
    "from langchain.chains.router import MultiPromptChain\n",
    "from langchain.chains.router.llm_router import LLMRouterChain,RouterOutputParser\n",
    "from langchain.prompts import PromptTemplate,ChatPromptTemplate"
   ]
  },
  {
   "cell_type": "code",
   "execution_count": 12,
   "metadata": {},
   "outputs": [
    {
     "name": "stdout",
     "output_type": "stream",
     "text": [
      "Available destinations:\n",
      "physics: Good for answering questions about physics\n",
      "math: Good for answering math questions\n",
      "History: Good for answering history questions\n",
      "computer science: Good for answering computer science questions\n"
     ]
    }
   ],
   "source": [
    "# Define the available destinations\n",
    "\n",
    "destination_chains = {}\n",
    "for p_info in prompt_infos:\n",
    "    name = p_info[\"name\"]\n",
    "    prompt_template = p_info[\"prompt_template\"]\n",
    "    prompt = ChatPromptTemplate.from_template(template=prompt_template)\n",
    "    chain = LLMChain(llm=openIAgent, prompt=prompt)\n",
    "    destination_chains[name] = chain  \n",
    "    \n",
    "destinations = [f\"{p['name']}: {p['description']}\" for p in prompt_infos]\n",
    "destinations_str = \"\\n\".join(destinations)\n",
    "print(f\"Available destinations:\\n{destinations_str}\")"
   ]
  },
  {
   "cell_type": "code",
   "execution_count": 13,
   "metadata": {},
   "outputs": [],
   "source": [
    "# Define the default chain to use when no destination is specified\n",
    "\n",
    "default_prompt = ChatPromptTemplate.from_template(\"{input}\")\n",
    "default_chain = LLMChain(llm=openIAgent, prompt=default_prompt)"
   ]
  },
  {
   "cell_type": "code",
   "execution_count": 14,
   "metadata": {},
   "outputs": [
    {
     "name": "stderr",
     "output_type": "stream",
     "text": [
      "<>:1: SyntaxWarning: invalid escape sequence '\\ '\n",
      "<>:1: SyntaxWarning: invalid escape sequence '\\ '\n",
      "C:\\Users\\mohamed.tawfik\\AppData\\Local\\Temp\\ipykernel_16264\\3619594245.py:1: SyntaxWarning: invalid escape sequence '\\ '\n",
      "  MULTI_PROMPT_ROUTER_TEMPLATE = '''Given a raw text input to a\n"
     ]
    }
   ],
   "source": [
    "MULTI_PROMPT_ROUTER_TEMPLATE = '''Given a raw text input to a\n",
    "language model select the model prompt best suited for the input. \n",
    "You will be given the names of the available prompts and a \n",
    "description of what the prompt is best suited for. \n",
    "You may also revise the original input if you think that revising\n",
    "it will ultimately lead to a better response from the language model.\n",
    "\n",
    "<< FORMATTING >>\n",
    "Return a markdown code snippet with a JSON object formatted to look like:\n",
    "```json\n",
    "{{{{\n",
    "    \"destination\": string \\ name of the prompt to use or \"DEFAULT\"\n",
    "    \"next_inputs\": string \\ a potentially modified version of the original input\n",
    "}}}}\n",
    "```\n",
    "\n",
    "REMEMBER: \"destination\" MUST be one of the candidate prompt \n",
    "names specified below OR it can be \"DEFAULT\" if the input is not\n",
    "well suited for any of the candidate prompts.\n",
    "REMEMBER: \"next_inputs\" can just be the original input \n",
    "if you don't think any modifications are needed.\n",
    "\n",
    "<< CANDIDATE PROMPTS >>\n",
    "{destinations}\n",
    "\n",
    "<< INPUT >>\n",
    "{{input}}\n",
    "\n",
    "<< OUTPUT (remember to include the ```json)>>'''"
   ]
  },
  {
   "cell_type": "code",
   "execution_count": 16,
   "metadata": {},
   "outputs": [],
   "source": [
    "router_template = MULTI_PROMPT_ROUTER_TEMPLATE.format(\n",
    "    destinations=destinations_str\n",
    ")\n",
    "router_prompt = PromptTemplate(\n",
    "    template=router_template,\n",
    "    input_variables=[\"input\"],\n",
    "    output_parser=RouterOutputParser(),\n",
    ")\n",
    "\n",
    "router_chain = LLMRouterChain.from_llm(openIAgent, router_prompt)"
   ]
  },
  {
   "cell_type": "code",
   "execution_count": 17,
   "metadata": {},
   "outputs": [],
   "source": [
    "chain = MultiPromptChain(router_chain=router_chain, \n",
    "                         destination_chains=destination_chains, \n",
    "                         default_chain=default_chain, verbose=True\n",
    "                        )"
   ]
  },
  {
   "cell_type": "code",
   "execution_count": 19,
   "metadata": {},
   "outputs": [
    {
     "name": "stdout",
     "output_type": "stream",
     "text": [
      "\n",
      "\n",
      "\u001b[1m> Entering new MultiPromptChain chain...\u001b[0m\n",
      "physics: {'input': 'What is black body radiation?'}\n",
      "\u001b[1m> Finished chain.\u001b[0m\n"
     ]
    },
    {
     "data": {
      "text/plain": [
       "{'input': 'What is black body radiation?',\n",
       " 'text': \"Black body radiation refers to the electromagnetic radiation emitted by a perfect black body, which is an idealized physical body that absorbs all incident electromagnetic radiation. The radiation emitted by a black body depends only on its temperature and follows a specific curve known as Planck's law. This radiation covers a wide range of wavelengths and intensities, with the peak wavelength shifting to shorter wavelengths as the temperature of the black body increases. The concept of black body radiation was crucial in the development of quantum mechanics and the understanding of the behavior of electromagnetic radiation.\"}"
      ]
     },
     "execution_count": 19,
     "metadata": {},
     "output_type": "execute_result"
    }
   ],
   "source": [
    "chain.invoke(\"What is black body radiation?\")"
   ]
  },
  {
   "cell_type": "code",
   "execution_count": 20,
   "metadata": {},
   "outputs": [
    {
     "name": "stdout",
     "output_type": "stream",
     "text": [
      "\n",
      "\n",
      "\u001b[1m> Entering new MultiPromptChain chain...\u001b[0m\n",
      "math: {'input': 'what is 2 + 2'}\n",
      "\u001b[1m> Finished chain.\u001b[0m\n"
     ]
    },
    {
     "data": {
      "text/plain": [
       "{'input': 'what is 2 + 2', 'text': 'The answer to 2 + 2 is 4.'}"
      ]
     },
     "execution_count": 20,
     "metadata": {},
     "output_type": "execute_result"
    }
   ],
   "source": [
    "chain.invoke(\"what is 2 + 2\")"
   ]
  },
  {
   "cell_type": "code",
   "execution_count": 22,
   "metadata": {},
   "outputs": [
    {
     "name": "stdout",
     "output_type": "stream",
     "text": [
      "\n",
      "\n",
      "\u001b[1m> Entering new MultiPromptChain chain...\u001b[0m\n",
      "biology: {'input': 'Why does every cell in our body contain DNA?'}"
     ]
    },
    {
     "ename": "ValueError",
     "evalue": "Received invalid destination chain name 'biology'",
     "output_type": "error",
     "traceback": [
      "\u001b[1;31m---------------------------------------------------------------------------\u001b[0m",
      "\u001b[1;31mValueError\u001b[0m                                Traceback (most recent call last)",
      "Cell \u001b[1;32mIn[22], line 1\u001b[0m\n\u001b[1;32m----> 1\u001b[0m \u001b[43mchain\u001b[49m\u001b[38;5;241;43m.\u001b[39;49m\u001b[43minvoke\u001b[49m\u001b[43m(\u001b[49m\u001b[38;5;124;43m\"\u001b[39;49m\u001b[38;5;124;43mWhy does every cell in our body contain DNA?\u001b[39;49m\u001b[38;5;124;43m\"\u001b[39;49m\u001b[43m)\u001b[49m\n",
      "File \u001b[1;32mc:\\Users\\mohamed.tawfik\\AppData\\Local\\Programs\\Python\\Python312\\Lib\\site-packages\\langchain\\chains\\base.py:163\u001b[0m, in \u001b[0;36mChain.invoke\u001b[1;34m(self, input, config, **kwargs)\u001b[0m\n\u001b[0;32m    161\u001b[0m \u001b[38;5;28;01mexcept\u001b[39;00m \u001b[38;5;167;01mBaseException\u001b[39;00m \u001b[38;5;28;01mas\u001b[39;00m e:\n\u001b[0;32m    162\u001b[0m     run_manager\u001b[38;5;241m.\u001b[39mon_chain_error(e)\n\u001b[1;32m--> 163\u001b[0m     \u001b[38;5;28;01mraise\u001b[39;00m e\n\u001b[0;32m    164\u001b[0m run_manager\u001b[38;5;241m.\u001b[39mon_chain_end(outputs)\n\u001b[0;32m    166\u001b[0m \u001b[38;5;28;01mif\u001b[39;00m include_run_info:\n",
      "File \u001b[1;32mc:\\Users\\mohamed.tawfik\\AppData\\Local\\Programs\\Python\\Python312\\Lib\\site-packages\\langchain\\chains\\base.py:153\u001b[0m, in \u001b[0;36mChain.invoke\u001b[1;34m(self, input, config, **kwargs)\u001b[0m\n\u001b[0;32m    150\u001b[0m \u001b[38;5;28;01mtry\u001b[39;00m:\n\u001b[0;32m    151\u001b[0m     \u001b[38;5;28mself\u001b[39m\u001b[38;5;241m.\u001b[39m_validate_inputs(inputs)\n\u001b[0;32m    152\u001b[0m     outputs \u001b[38;5;241m=\u001b[39m (\n\u001b[1;32m--> 153\u001b[0m         \u001b[38;5;28;43mself\u001b[39;49m\u001b[38;5;241;43m.\u001b[39;49m\u001b[43m_call\u001b[49m\u001b[43m(\u001b[49m\u001b[43minputs\u001b[49m\u001b[43m,\u001b[49m\u001b[43m \u001b[49m\u001b[43mrun_manager\u001b[49m\u001b[38;5;241;43m=\u001b[39;49m\u001b[43mrun_manager\u001b[49m\u001b[43m)\u001b[49m\n\u001b[0;32m    154\u001b[0m         \u001b[38;5;28;01mif\u001b[39;00m new_arg_supported\n\u001b[0;32m    155\u001b[0m         \u001b[38;5;28;01melse\u001b[39;00m \u001b[38;5;28mself\u001b[39m\u001b[38;5;241m.\u001b[39m_call(inputs)\n\u001b[0;32m    156\u001b[0m     )\n\u001b[0;32m    158\u001b[0m     final_outputs: Dict[\u001b[38;5;28mstr\u001b[39m, Any] \u001b[38;5;241m=\u001b[39m \u001b[38;5;28mself\u001b[39m\u001b[38;5;241m.\u001b[39mprep_outputs(\n\u001b[0;32m    159\u001b[0m         inputs, outputs, return_only_outputs\n\u001b[0;32m    160\u001b[0m     )\n\u001b[0;32m    161\u001b[0m \u001b[38;5;28;01mexcept\u001b[39;00m \u001b[38;5;167;01mBaseException\u001b[39;00m \u001b[38;5;28;01mas\u001b[39;00m e:\n",
      "File \u001b[1;32mc:\\Users\\mohamed.tawfik\\AppData\\Local\\Programs\\Python\\Python312\\Lib\\site-packages\\langchain\\chains\\router\\base.py:106\u001b[0m, in \u001b[0;36mMultiRouteChain._call\u001b[1;34m(self, inputs, run_manager)\u001b[0m\n\u001b[0;32m    104\u001b[0m     \u001b[38;5;28;01mreturn\u001b[39;00m \u001b[38;5;28mself\u001b[39m\u001b[38;5;241m.\u001b[39mdefault_chain(route\u001b[38;5;241m.\u001b[39mnext_inputs, callbacks\u001b[38;5;241m=\u001b[39mcallbacks)\n\u001b[0;32m    105\u001b[0m \u001b[38;5;28;01melse\u001b[39;00m:\n\u001b[1;32m--> 106\u001b[0m     \u001b[38;5;28;01mraise\u001b[39;00m \u001b[38;5;167;01mValueError\u001b[39;00m(\n\u001b[0;32m    107\u001b[0m         \u001b[38;5;124mf\u001b[39m\u001b[38;5;124m\"\u001b[39m\u001b[38;5;124mReceived invalid destination chain name \u001b[39m\u001b[38;5;124m'\u001b[39m\u001b[38;5;132;01m{\u001b[39;00mroute\u001b[38;5;241m.\u001b[39mdestination\u001b[38;5;132;01m}\u001b[39;00m\u001b[38;5;124m'\u001b[39m\u001b[38;5;124m\"\u001b[39m\n\u001b[0;32m    108\u001b[0m     )\n",
      "\u001b[1;31mValueError\u001b[0m: Received invalid destination chain name 'biology'"
     ]
    }
   ],
   "source": [
    "chain.invoke(\"Why does every cell in our body contain DNA?\")"
   ]
  }
 ],
 "metadata": {
  "kernelspec": {
   "display_name": "Python 3 (ipykernel)",
   "language": "python",
   "name": "python3"
  },
  "language_info": {
   "codemirror_mode": {
    "name": "ipython",
    "version": 3
   },
   "file_extension": ".py",
   "mimetype": "text/x-python",
   "name": "python",
   "nbconvert_exporter": "python",
   "pygments_lexer": "ipython3",
   "version": "3.12.1"
  }
 },
 "nbformat": 4,
 "nbformat_minor": 2
}
