{
 "cells": [
  {
   "cell_type": "code",
   "execution_count": 8,
   "metadata": {},
   "outputs": [
    {
     "data": {
      "text/plain": [
       "'sk-proj-vhrW60kySKTHwrApfe30T3BlbkFJ03byOMgNpnqyQdtEZ00c'"
      ]
     },
     "execution_count": 8,
     "metadata": {},
     "output_type": "execute_result"
    }
   ],
   "source": [
    "import os\n",
    "from dotenv import load_dotenv, find_dotenv\n",
    "# find_dotenv() find .env automatically by walking up directories until it's found \n",
    "# load_dotenv() load the environment variables from the .env file\n",
    "# override=True allows the .env file to override the system environment variables\n",
    "load_dotenv(find_dotenv(), override=True)\n",
    "\n",
    "os.environ.get('OPENAI_API_KEY')"
   ]
  },
  {
   "cell_type": "markdown",
   "metadata": {},
   "source": [
    "# Streaming\n",
    "- refers to the process of delivering the response in a continuous stream of data instead of sending the entire response once\n",
    "- This allows the user to receive the response piece by piece as it is generated, which improves the user experience and reduce the overall latency"
   ]
  },
  {
   "cell_type": "code",
   "execution_count": 9,
   "metadata": {},
   "outputs": [
    {
     "name": "stdout",
     "output_type": "stream",
     "text": [
      "Verse 1:\n",
      "Beneath the shining moon\n",
      "The sea begins to croon\n",
      "Its waves crash upon the shore\n",
      "Creating a soothing roar\n",
      "\n",
      "Chorus:\n",
      "Moon and sea, a perfect harmony\n",
      "Their dance of love, for all to see\n",
      "The moonlight glistens on the waves\n",
      "As they sway and behave\n",
      "\n",
      "Verse 2:\n",
      "The moon's reflection on the water\n",
      "Creates a magical aura\n",
      "A symphony of light and sound\n",
      "As the sea and moon are bound\n",
      "\n",
      "Chorus:\n",
      "Moon and sea, a perfect harmony\n",
      "Their dance of love, for all to see\n",
      "The moonlight glistens on the waves\n",
      "As they sway and behave\n",
      "\n",
      "Bridge:\n",
      "The tides rise and fall\n",
      "As the moon calls\n",
      "A timeless connection\n",
      "In nature's perfection\n",
      "\n",
      "Chorus:\n",
      "Moon and sea, a perfect harmony\n",
      "Their dance of love, for all to see\n",
      "The moonlight glistens on the waves\n",
      "As they sway and behave\n",
      "\n",
      "Outro:\n",
      "In the night, they shine bright\n",
      "A celestial delight\n",
      "Moon and sea, forever intertwined\n",
      "In a love that will never decline.\n"
     ]
    }
   ],
   "source": [
    "from langchain_openai import ChatOpenAI\n",
    "\n",
    "openAiAgent = ChatOpenAI()\n",
    "\n",
    "result = openAiAgent.invoke(\"Create song about mon and sea\")\n",
    "\n",
    "print(result.content)"
   ]
  },
  {
   "cell_type": "code",
   "execution_count": 12,
   "metadata": {},
   "outputs": [
    {
     "name": "stdout",
     "output_type": "stream",
     "text": [
      "(Verse 1)\n",
      "Under the moonlight's gentle glow\n",
      "The sea's waves ebb and flow\n",
      "A symphony of nature's grace\n",
      "A tranquil and peaceful place\n",
      "\n",
      "(Chorus)\n",
      "Moon and sea, dancing in harmony\n",
      "Their love eternal, for all to see\n",
      "The moon's light casting a shimmering trail\n",
      "On the sea's surface, like a fairytale\n",
      "\n",
      "(Verse 2)\n",
      "The moon whispers secrets to the sea\n",
      "Of ancient tales and mysteries\n",
      "Their bond unbreakable, forever true\n",
      "A timeless love, always renewed\n",
      "\n",
      "(Chorus)\n",
      "Moon and sea, dancing in harmony\n",
      "Their love eternal, for all to see\n",
      "The moon's light casting a shimmering trail\n",
      "On the sea's surface, like a fairytale\n",
      "\n",
      "(Bridge)\n",
      "As the waves crash against the shore\n",
      "The moon and sea forevermore\n",
      "Their union a sight to behold\n",
      "A story of love, never old\n",
      "\n",
      "(Chorus)\n",
      "Moon and sea, dancing in harmony\n",
      "Their love eternal, for all to see\n",
      "The moon's light casting a shimmering trail\n",
      "On the sea's surface, like a fairytale\n",
      "\n",
      "(Outro)\n",
      "In the stillness of the night\n",
      "The moon and sea shine bright\n",
      "A bond that will never fade\n",
      "In their love, we find solace and aid."
     ]
    }
   ],
   "source": [
    "# using Streaming allow user to receive the output in real time\n",
    "\n",
    "chunks = []\n",
    "async for chunk in openAiAgent.astream(\"create a song about moon and sea\"):\n",
    "    chunks.append(chunk)\n",
    "    print(chunk.content, end='', flush=True)"
   ]
  }
 ],
 "metadata": {
  "kernelspec": {
   "display_name": "Python 3",
   "language": "python",
   "name": "python3"
  },
  "language_info": {
   "codemirror_mode": {
    "name": "ipython",
    "version": 3
   },
   "file_extension": ".py",
   "mimetype": "text/x-python",
   "name": "python",
   "nbconvert_exporter": "python",
   "pygments_lexer": "ipython3",
   "version": "3.12.1"
  }
 },
 "nbformat": 4,
 "nbformat_minor": 2
}
