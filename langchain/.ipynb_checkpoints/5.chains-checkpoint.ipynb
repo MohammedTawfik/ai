{
 "cells": [
  {
   "cell_type": "markdown",
   "metadata": {},
   "source": [
    "# Chains\n",
    "- Chains are a sequence of actions that are executed in sequence\n",
    "- Can be ued to intgrate multiple models by using the output of one mmodel as ana input to the other one\n",
    "\n",
    "There are types of Chains\n",
    "- Simple Chain\n",
    "- Sequential Chain"
   ]
  },
  {
   "cell_type": "markdown",
   "metadata": {},
   "source": [
    "## Simple Chain"
   ]
  },
  {
   "cell_type": "code",
   "execution_count": 1,
   "metadata": {},
   "outputs": [
    {
     "data": {
      "text/plain": [
       "'sk-proj-gp5BOhGzX3yrUC4bWBhXT3BlbkFJJYQbNP18jdaEUo83Ixpk'"
      ]
     },
     "execution_count": 1,
     "metadata": {},
     "output_type": "execute_result"
    }
   ],
   "source": [
    "import os\n",
    "from dotenv import load_dotenv, find_dotenv\n",
    "# find_dotenv() find .env automatically by walking up directories until it's found \n",
    "# load_dotenv() load the environment variables from the .env file\n",
    "# override=True allows the .env file to override the system environment variables\n",
    "load_dotenv(find_dotenv(), override=True)\n",
    "\n",
    "os.environ.get('OPENAI_API_KEY')"
   ]
  },
  {
   "cell_type": "code",
   "execution_count": 2,
   "metadata": {},
   "outputs": [],
   "source": [
    "from langchain_openai import ChatOpenAI\n",
    "from langchain.prompts import PromptTemplate\n",
    "from langchain.chains import LLMChain"
   ]
  },
  {
   "cell_type": "code",
   "execution_count": 3,
   "metadata": {},
   "outputs": [
    {
     "name": "stdout",
     "output_type": "stream",
     "text": [
      "{'animal': 'lion', 'language': 'arabic', 'text': 'الأسد هو حيوان من عائلة السنوريات يعيش في المناطق الأفريقية والهندية. يتميز الأسد بجسمه الضخم والقوي ورأسه الكبيرة والمنتفخة. له وجه قصير وأذنان مدببتان وفرو كثيف باللون البني الذهبي. الذكور يمتلكون شعراً طويلاً حول الرقبة يعرف باسم \"الشعرة الأسدية\".\\n\\nيعتبر الأسد من أشرس الحيوانات المفترسة حيث يصطاد بالتعاون مع فصيلته للحصول على الفريسة. يعيش الأسد في مجموعات تسمى القطعان تتكون من ذكر وإناث وصغار. يتغذى الأسد على الحيوانات الكبيرة مثل الغزلان والزرافات.\\n\\nيعتبر الأسد رمزاً للقوة والشجاعة في الثقافة العربية ويظهر في العديد من القصص والأساطير. يعتبر الأسد أحد أبرز الحيوانات البرية المهددة بالانقراض بسبب صيده غير المشروع وتدهور موئله الطبيعي.'}\n"
     ]
    }
   ],
   "source": [
    "from urllib import response\n",
    "from prompt_toolkit import prompt\n",
    "\n",
    "\n",
    "template = '''as a zoologist write a description about {animal} in {language}'''\n",
    "prompt= PromptTemplate.from_template(template)\n",
    "openIAgent = ChatOpenAI()\n",
    "chain = LLMChain(llm=openIAgent, prompt=prompt)\n",
    "response = chain.invoke({'animal':'lion', 'language':'arabic'})\n",
    "print(response)"
   ]
  },
  {
   "cell_type": "markdown",
   "metadata": {},
   "source": [
    "## Display Chain Execution\n",
    "- use `verbose=true` parameter when initialize chain to display the steps to execute the chain"
   ]
  },
  {
   "cell_type": "code",
   "execution_count": 11,
   "metadata": {},
   "outputs": [
    {
     "name": "stdout",
     "output_type": "stream",
     "text": [
      "\n",
      "\n",
      "\u001b[1m> Entering new LLMChain chain...\u001b[0m\n",
      "Prompt after formatting:\n",
      "\u001b[32;1m\u001b[1;3mas a zoologist write a description about lion in english\u001b[0m\n",
      "\n",
      "\u001b[1m> Finished chain.\u001b[0m\n",
      "{'animal': 'lion', 'language': 'english', 'text': \"The lion, scientifically known as Panthera leo, is a majestic and powerful carnivorous mammal belonging to the Felidae family. It is one of the largest of the big cats, with males typically weighing between 330 to 550 pounds and females weighing between 260 to 400 pounds. \\n\\nLions are easily recognized by their muscular build, golden coat, and impressive mane that is unique to the males. The mane serves as a visual display of dominance and helps to protect the lion's neck during fights with other males.\\n\\nThese social animals live in groups known as prides, which are typically made up of multiple related females, their offspring, and a few dominant males. Lions are known for their cooperative hunting behavior, with females often working together to take down prey such as zebras, wildebeests, and buffalo.\\n\\nLions are primarily found in sub-Saharan Africa and a small population in the Gir Forest National Park in India. Unfortunately, these iconic animals are classified as vulnerable on the IUCN Red List due to habitat loss, poaching, and conflicts with humans.\\n\\nIn conclusion, the lion is a symbol of strength, courage, and pride in the animal kingdom. It is a fascinating species that plays a crucial role in maintaining the balance of ecosystems in their natural habitats.\"}\n"
     ]
    }
   ],
   "source": [
    "chain = LLMChain(llm=openIAgent, prompt=prompt, verbose=True)\n",
    "response = chain.invoke({'animal':'lion', 'language':'english'})\n",
    "print(response)"
   ]
  },
  {
   "cell_type": "markdown",
   "metadata": {},
   "source": [
    "### Pass a single Template parameter"
   ]
  },
  {
   "cell_type": "code",
   "execution_count": 13,
   "metadata": {},
   "outputs": [
    {
     "name": "stdout",
     "output_type": "stream",
     "text": [
      "\n",
      "\n",
      "\u001b[1m> Entering new LLMChain chain...\u001b[0m\n",
      "Prompt after formatting:\n",
      "\u001b[32;1m\u001b[1;3mMention 3 places to visit in egypt. the output must be displayed in bullet points\u001b[0m\n",
      "\n",
      "\u001b[1m> Finished chain.\u001b[0m\n",
      "{'country': 'egypt', 'text': '- The Great Pyramids of Giza\\n- The Egyptian Museum in Cairo\\n- Luxor Temple in Luxor'}\n"
     ]
    }
   ],
   "source": [
    "template = '''Mention 3 places to visit in {country}. the output must be displayed in bullet points'''\n",
    "prompt= PromptTemplate.from_template(template)\n",
    "country = input('Enter the country: ')\n",
    "chain = LLMChain(llm=openIAgent, prompt=prompt, verbose=True)\n",
    "response = chain.invoke(country)\n",
    "print(response)"
   ]
  },
  {
   "cell_type": "markdown",
   "metadata": {},
   "source": [
    "## Sequential Chains\n",
    "- You can make a series of calls to one or more LLMs\n",
    "- The output of one chain is used as input for the other\n",
    "- There are 2 types of Sequential Chain\n",
    "  - Simple Sequential Chain\n",
    "  - Sequential Chain"
   ]
  },
  {
   "cell_type": "code",
   "execution_count": 17,
   "metadata": {},
   "outputs": [
    {
     "name": "stdout",
     "output_type": "stream",
     "text": [
      "\n",
      "\n",
      "\u001b[1m> Entering new SimpleSequentialChain chain...\u001b[0m\n",
      "\u001b[36;1m\u001b[1;3mSure! Here is an example of a function that implements linear regression in Python:\n",
      "\n",
      "```python\n",
      "import numpy as np\n",
      "\n",
      "def linear_regression(X, y):\n",
      "    # Add a column of ones to X for the intercept term\n",
      "    X = np.c_[np.ones(X.shape[0]), X]\n",
      "    \n",
      "    # Calculate the coefficients using the normal equation\n",
      "    theta = np.linalg.inv(X.T.dot(X)).dot(X.T).dot(y)\n",
      "    \n",
      "    return theta\n",
      "\n",
      "# Example usage\n",
      "X = np.array([[1, 2], [2, 3], [3, 4], [4, 5]])\n",
      "y = np.array([2, 4, 6, 8])\n",
      "\n",
      "theta = linear_regression(X, y)\n",
      "print(theta)\n",
      "```\n",
      "\n",
      "This function takes in a matrix of features `X` and a vector of target values `y`, and calculates the coefficients for a linear regression model using the normal equation. The function then returns the coefficients as a vector `theta`.\u001b[0m\n",
      "\u001b[33;1m\u001b[1;3mLet's break down the code into parts to better understand how it implements linear regression using Python's numpy library:\n",
      "\n",
      "1. **Importing numpy Library**:\n",
      "   ```python\n",
      "   import numpy as np\n",
      "   ```\n",
      "   Numpy is a fundamental package for scientific computing in Python. It provides support for arrays (multidimensional arrays), mathematical functions, and matrix operations essential for data science and regression tasks.\n",
      "\n",
      "2. **Function Definition**:\n",
      "   ```python\n",
      "   def linear_regression(X, y):\n",
      "   ```\n",
      "   This defines a function `linear_regression`, which takes two parameters: \n",
      "   - `X`: a matrix containing the independent variables (or features).\n",
      "   - `y`: a vector containing the dependent variable values (or target values) that correspond to each row of `X`.\n",
      "\n",
      "3. **Adding Intercept Term**:\n",
      "   ```python\n",
      "   X = np.c_[np.ones(X.shape[0]), X]\n",
      "   ```\n",
      "   Linear regression models typically include an intercept term (also known as the bias). `np.ones(X.shape[0])` creates a column vector filled with ones, with the length equal to the number of rows in `X`. The `np.c_` concatenates this column to the left side of `X`, thereby adding an intercept column where all values are 1. This manipulates the input matrix `X` to accommodate the intercept term in the model calculations.\n",
      "\n",
      "4. **Calculating Coefficients Using the Normal Equation**:\n",
      "   ```python\n",
      "   theta = np.linalg.inv(X.T.dot(X)).dot(X.T).dot(y)\n",
      "   ```\n",
      "   This line calculates the coefficients (parameters) of the linear regression:\n",
      "   - `X.T` is the transpose of `X`.\n",
      "   - `X.T.dot(X)` calculates the dot product of X transposed and X.\n",
      "   - `np.linalg.inv(X.T.dot(X))` computes the inverse of the matrix product `X.T.dot(X)`.\n",
      "   - Finally, `.dot(X.T).dot(y)` computes the dot product of the inverse of `(X.T.dot(X))` with `X.T` and the dot product of the result with `y`.\n",
      "   The resulting coefficients `theta` are calculated by multiplying these terms, following the normal equation of linear regression: \\(\\theta = (X^TX)^{-1}X^Ty\\), where \\(X^T\\) is the transpose of matrix X, and \\(X^T \\times X\\) is an invertible matrix.\n",
      "\n",
      "5. **Function Return**:\n",
      "   ```python\n",
      "   return theta\n",
      "   ```\n",
      "   The function returns the vector `theta`, containing the coefficients determined for the linear model including the intercept.\n",
      "\n",
      "6. **Example Usage**:\n",
      "   ```python\n",
      "   X = np.array([[1, 2], [2, 3], [3, 4], [4, 5]])\n",
      "   y = np.array([2, 4, 6, 8])\n",
      "   \n",
      "   theta = linear_regression(X, y)\n",
      "   print(theta)\n",
      "   ```\n",
      "   In the usage example:\n",
      "   - `X` is created as a numpy array of feature sets where each inner array represents a sample with two features.\n",
      "   - `y` is a vector of target values corresponding to each sample set in `X`.\n",
      "   - `linear_regression` function is called with `X` and `y`, to compute `theta`.\n",
      "   - The parameters `theta` are printed out. In this toy example, the weights determine how `y` can be predicted from `X` using a linear model.\n",
      "\n",
      "Understanding and handling edge cases, such as singular matrix inversions (where \\((X^TX)^{-1}\\) may not be defined because \\(X^TX\\) is not invertible), may require modifications or additional checks in a real-world scenario.\u001b[0m\n",
      "\n",
      "\u001b[1m> Finished chain.\u001b[0m\n"
     ]
    }
   ],
   "source": [
    "from langchain.chains import SimpleSequentialChain\n",
    "\n",
    "prompt = PromptTemplate.from_template(template='''As a senior software engineer, write a function that implement the concept {concept} in python''')\n",
    "llm1 = ChatOpenAI(model='gpt-3.5-turbo',temperature=0.5)\n",
    "chain1 = LLMChain(llm=llm1, prompt=prompt)\n",
    "prompt2 = PromptTemplate.from_template(template='''describe the code of this {function} in details''')\n",
    "llm2 = ChatOpenAI(model='gpt-4-turbo',temperature=1.2)\n",
    "chain2 = LLMChain(llm=llm2, prompt=prompt2)\n",
    "\n",
    "simpleSequentialChain = SimpleSequentialChain(chains=[chain1, chain2], verbose=True)\n",
    "response = simpleSequentialChain.invoke('linear regression')\n"
   ]
  },
  {
   "cell_type": "markdown",
   "metadata": {},
   "source": [
    "### Sequential Chain\n",
    "\n",
    "\n"
   ]
  },
  {
   "cell_type": "code",
   "execution_count": 19,
   "metadata": {},
   "outputs": [
    {
     "name": "stdout",
     "output_type": "stream",
     "text": [
      "\n",
      "\n",
      "\u001b[1m> Entering new SequentialChain chain...\u001b[0m\n",
      "\n",
      "\u001b[1m> Finished chain.\u001b[0m\n",
      "{'language': 'english', 'text': '\\nIch habe kürzlich das Magische Einhorn-Abenteuer-Spielset für den 6. Geburtstag meiner Tochter gekauft, und es war ein riesiger Erfolg! Schon als sie es auspackte, strahlten ihre Augen vor Freude und Aufregung.\\n\\nDas Spielset ist unglaublich gut gemacht, mit lebendigen Farben und stabilen Teilen, die stundenlangem fantasievollem Spiel standhalten. Die Einhörner sind bezaubernd, und die zusätzlichen Accessoires wie das verzauberte Schloss und die Feenfiguren erwecken die Fantasiewelt wirklich zum Leben. Meine Tochter liebt es, ihre eigenen magischen Abenteuer und Geschichten zu erfinden, und es ist wunderbar zu sehen, wie sie so engagiert und glücklich ist.\\n\\nEines der besten Features sind die interaktiven Sound- und Lichtelemente. Das Horn des Einhorns leuchtet auf und spielt magische Geräusche, was eine zusätzliche Schicht von Zauber hinzufügt. Es ist auch großartig zu sehen, dass ein Spielzeug die Kreativität und das Erzählen von Geschichten fördert, anstatt nur passives Spiel.\\n\\nInsgesamt bin ich mit diesem Kauf äußerst zufrieden. Es ist nicht nur unterhaltsam, sondern auch lehrreich und fördert die Kreativität und sozialen Fähigkeiten meiner Tochter, wenn sie mit ihren Freunden spielt. Ich kann das Magische Einhorn-Abenteuer-Spielset jedem Elternteil wärmstens empfehlen, das ein bezauberndes und hochwertiges Geschenk für sein Kind sucht. Dieses Spielzeug hat den Geburtstag meiner Tochter wirklich besonders gemacht, und ich bin sicher, dass es in Zukunft unzählige Stunden Spaß bieten wird!\\n', 'feedback': \"I recently bought the Magical Unicorn Adventure Playset for my daughter's 6th birthday, and it was a huge success! As soon as she unpacked it, her eyes lit up with joy and excitement.\\n\\nThe playset is incredibly well made, with vibrant colors and sturdy pieces that can withstand hours of imaginative play. The unicorns are enchanting, and the additional accessories like the enchanted castle and fairy figures really bring the fantasy world to life. My daughter loves inventing her own magical adventures and stories, and it's wonderful to see her so engaged and happy.\\n\\nOne of the best features are the interactive sound and light elements. The unicorn's horn lights up and plays magical sounds, adding an extra layer of enchantment. It's also great to see a toy that promotes creativity and storytelling, rather than just passive play.\\n\\nOverall, I am extremely satisfied with this purchase. It is not only entertaining, but also educational and fosters my daughter's creativity and social skills when she plays with her friends. I highly recommend the Magical Unicorn Adventure Playset to any parent looking for a charming and high-quality gift for their child. This toy truly made my daughter's birthday special, and I'm sure it will provide countless hours of fun in the future!\", 'summary': \"The feedback describes the Magical Unicorn Adventure Playset as a huge success for the reviewer's daughter's 6th birthday. They highlight the well-made and sturdy pieces, vibrant colors, and enchanting unicorns. The interactive sound and light elements are praised for adding an extra layer of enchantment. The playset is commended for promoting creativity, storytelling, and social skills. Overall, the reviewer highly recommends the playset as a charming and high-quality gift that made their daughter's birthday special and will provide hours of fun in the future.\", 'reply': \"Thank you so much for your glowing review of our Magical Unicorn Adventure Playset! We are thrilled to hear that it was a huge success for your daughter's 6th birthday and that she enjoyed the well-made and sturdy pieces, vibrant colors, and enchanting unicorns. We are delighted that the interactive sound and light elements added an extra layer of enchantment to the playset.\\n\\nIt's wonderful to hear that the playset is promoting creativity, storytelling, and social skills for your daughter. We are so pleased that it made her birthday special and will provide hours of fun in the future. Thank you for recommending our playset as a charming and high-quality gift. We hope it continues to bring joy and magical adventures to your daughter for years to come. Thank you for choosing our Magical Unicorn Adventure Playset!\"}\n"
     ]
    }
   ],
   "source": [
    "from gettext import translation\n",
    "from langchain.chains import SequentialChain\n",
    "\n",
    "userFeedback = '''\n",
    "Ich habe kürzlich das Magische Einhorn-Abenteuer-Spielset für den 6. Geburtstag meiner Tochter gekauft, und es war ein riesiger Erfolg! Schon als sie es auspackte, strahlten ihre Augen vor Freude und Aufregung.\n",
    "\n",
    "Das Spielset ist unglaublich gut gemacht, mit lebendigen Farben und stabilen Teilen, die stundenlangem fantasievollem Spiel standhalten. Die Einhörner sind bezaubernd, und die zusätzlichen Accessoires wie das verzauberte Schloss und die Feenfiguren erwecken die Fantasiewelt wirklich zum Leben. Meine Tochter liebt es, ihre eigenen magischen Abenteuer und Geschichten zu erfinden, und es ist wunderbar zu sehen, wie sie so engagiert und glücklich ist.\n",
    "\n",
    "Eines der besten Features sind die interaktiven Sound- und Lichtelemente. Das Horn des Einhorns leuchtet auf und spielt magische Geräusche, was eine zusätzliche Schicht von Zauber hinzufügt. Es ist auch großartig zu sehen, dass ein Spielzeug die Kreativität und das Erzählen von Geschichten fördert, anstatt nur passives Spiel.\n",
    "\n",
    "Insgesamt bin ich mit diesem Kauf äußerst zufrieden. Es ist nicht nur unterhaltsam, sondern auch lehrreich und fördert die Kreativität und sozialen Fähigkeiten meiner Tochter, wenn sie mit ihren Freunden spielt. Ich kann das Magische Einhorn-Abenteuer-Spielset jedem Elternteil wärmstens empfehlen, das ein bezauberndes und hochwertiges Geschenk für sein Kind sucht. Dieses Spielzeug hat den Geburtstag meiner Tochter wirklich besonders gemacht, und ich bin sicher, dass es in Zukunft unzählige Stunden Spaß bieten wird!\n",
    "'''\n",
    "\n",
    "\n",
    "translationPrompt = PromptTemplate.from_template(template='''Translate the following text from German to {language}: {text}''')\n",
    "translationChain = LLMChain(llm=openIAgent, prompt=translationPrompt, output_key=\"feedback\")\n",
    "\n",
    "summarizePrompt = PromptTemplate.from_template(template='''Summarize the following feedback: {feedback}''')\n",
    "summarizationChain = LLMChain(llm=openIAgent, prompt=summarizePrompt, output_key=\"summary\")\n",
    "\n",
    "replyPrompt = PromptTemplate.from_template(template='''Write a reply to the following feedback summary: {summary}''')\n",
    "replyChain = LLMChain(llm=openIAgent, prompt=replyPrompt, output_key=\"reply\")\n",
    "\n",
    "finalChain = SequentialChain(chains=[translationChain, summarizationChain, replyChain],\n",
    "                                  input_variables=[\"language\", \"text\"],\n",
    "                                  output_variables= [\"feedback\",\"summary\",\"reply\"] , verbose=True)\n",
    "\n",
    "response = finalChain.invoke({'language':'english', 'text':userFeedback})\n",
    "print(response)"
   ]
  },
  {
   "cell_type": "code",
   "execution_count": 22,
   "metadata": {},
   "outputs": [
    {
     "name": "stdout",
     "output_type": "stream",
     "text": [
      "User feedback translated into English:\n",
      " I recently bought the Magical Unicorn Adventure Playset for my daughter's 6th birthday, and it was a huge success! As soon as she unpacked it, her eyes lit up with joy and excitement.\n",
      "\n",
      "The playset is incredibly well made, with vibrant colors and sturdy pieces that can withstand hours of imaginative play. The unicorns are enchanting, and the additional accessories like the enchanted castle and fairy figures really bring the fantasy world to life. My daughter loves inventing her own magical adventures and stories, and it's wonderful to see her so engaged and happy.\n",
      "\n",
      "One of the best features are the interactive sound and light elements. The unicorn's horn lights up and plays magical sounds, adding an extra layer of enchantment. It's also great to see a toy that promotes creativity and storytelling, rather than just passive play.\n",
      "\n",
      "Overall, I am extremely satisfied with this purchase. It is not only entertaining, but also educational and fosters my daughter's creativity and social skills when she plays with her friends. I highly recommend the Magical Unicorn Adventure Playset to any parent looking for a charming and high-quality gift for their child. This toy truly made my daughter's birthday special, and I'm sure it will provide countless hours of fun in the future!\n",
      "----------------------------------------------------------------------------------------------------\n",
      "Summarized version of the user feedback: \n",
      " The feedback describes the Magical Unicorn Adventure Playset as a huge success for the reviewer's daughter's 6th birthday. They highlight the well-made and sturdy pieces, vibrant colors, and enchanting unicorns. The interactive sound and light elements are praised for adding an extra layer of enchantment. The playset is commended for promoting creativity, storytelling, and social skills. Overall, the reviewer highly recommends the playset as a charming and high-quality gift that made their daughter's birthday special and will provide hours of fun in the future.\n",
      "----------------------------------------------------------------------------------------------------\n",
      "Our Reply :  Thank you so much for your glowing review of our Magical Unicorn Adventure Playset! We are thrilled to hear that it was a huge success for your daughter's 6th birthday and that she enjoyed the well-made and sturdy pieces, vibrant colors, and enchanting unicorns. We are delighted that the interactive sound and light elements added an extra layer of enchantment to the playset.\n",
      "\n",
      "It's wonderful to hear that the playset is promoting creativity, storytelling, and social skills for your daughter. We are so pleased that it made her birthday special and will provide hours of fun in the future. Thank you for recommending our playset as a charming and high-quality gift. We hope it continues to bring joy and magical adventures to your daughter for years to come. Thank you for choosing our Magical Unicorn Adventure Playset!\n"
     ]
    }
   ],
   "source": [
    "print(\"User feedback translated into English:\\n\",response['feedback'])\n",
    "print(\"-\"*100)\n",
    "print(\"Summarized version of the user feedback: \\n\",response['summary'])\n",
    "print(\"-\"*100)\n",
    "print(\"Our Reply : \",response['reply'])"
   ]
  }
 ],
 "metadata": {
  "kernelspec": {
   "display_name": "Python 3 (ipykernel)",
   "language": "python",
   "name": "python3"
  },
  "language_info": {
   "codemirror_mode": {
    "name": "ipython",
    "version": 3
   },
   "file_extension": ".py",
   "mimetype": "text/x-python",
   "name": "python",
   "nbconvert_exporter": "python",
   "pygments_lexer": "ipython3",
   "version": "3.11.5"
  }
 },
 "nbformat": 4,
 "nbformat_minor": 2
}
