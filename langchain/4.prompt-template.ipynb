{
 "cells": [
  {
   "cell_type": "markdown",
   "metadata": {},
   "source": [
    "# Prompt Template\n",
    "Prompt templates help to translate user input and parameters into instructions for a language model. This can be used to guide a model's response, helping it understand the context and generate relevant and coherent language-based output.\n",
    "\n",
    "There are 2 types of templates\n",
    "1. Prompt Templates\n",
    "   1. These prompt templates are used to format a single string, and generally are used for simpler inputs. \n",
    "2. Chat Template\n",
    "   1. These prompt templates are used to format a list of messages. These \"templates\" consist of a list of templates themselves. \n"
   ]
  },
  {
   "cell_type": "code",
   "execution_count": 9,
   "metadata": {},
   "outputs": [
    {
     "data": {
      "text/plain": [
       "'sk-proj-myNsr0Rjb64xSZtVmWU0T3BlbkFJwuG66lhCJ7SmL0DDPvCC'"
      ]
     },
     "execution_count": 9,
     "metadata": {},
     "output_type": "execute_result"
    }
   ],
   "source": [
    "import os\n",
    "from dotenv import load_dotenv, find_dotenv\n",
    "# find_dotenv() find .env automatically by walking up directories until it's found \n",
    "# load_dotenv() load the environment variables from the .env file\n",
    "# override=True allows the .env file to override the system environment variables\n",
    "load_dotenv(find_dotenv(), override=True)\n",
    "\n",
    "os.environ.get('OPENAI_API_KEY')"
   ]
  },
  {
   "cell_type": "code",
   "execution_count": 14,
   "metadata": {},
   "outputs": [
    {
     "name": "stdout",
     "output_type": "stream",
     "text": [
      "you are a zoologist \n",
      "write 2 or 3 sentences about giraffe in arabic\n"
     ]
    }
   ],
   "source": [
    "from langchain.prompts import PromptTemplate\n",
    "from langchain_openai import ChatOpenAI\n",
    "\n",
    "openAiAgent = ChatOpenAI()\n",
    "\n",
    "template = '''you are a zoologist \n",
    "write 2 or 3 sentences about {animal} in {language}'''\n",
    "\n",
    "promptTemplate = PromptTemplate.from_template(template)\n",
    "prompt = promptTemplate.format(language='arabic', animal='giraffe')\n",
    "print(prompt)"
   ]
  },
  {
   "cell_type": "code",
   "execution_count": 15,
   "metadata": {},
   "outputs": [
    {
     "name": "stdout",
     "output_type": "stream",
     "text": [
      "الزرافة هي حيوان ذو رقبة طويلة وأرجل طويلة ولون بشرتها بني فاتح مع بقع داكنة. تعيش الزرافات في المناطق العشبية والسافانا في إفريقيا وتتغذى على أوراق الأشجار العالية. تعتبر الزرافة أكبر حيوان بري على وجه الأرض.\n"
     ]
    }
   ],
   "source": [
    "response = openAiAgent.invoke(prompt)\n",
    "print(response.content)"
   ]
  },
  {
   "cell_type": "code",
   "execution_count": 16,
   "metadata": {},
   "outputs": [
    {
     "name": "stdout",
     "output_type": "stream",
     "text": [
      "Der Löwe ist ein majestätisches Raubtier, das in Afrika und Teilen von Asien lebt. Männliche Löwen sind für ihre imposante Mähne bekannt, während Weibchen meist für die Jagd verantwortlich sind. Sie leben in Gruppen, die als Rudel bezeichnet werden, und sind für ihre soziale Struktur und Jagdtechniken bekannt.\n"
     ]
    }
   ],
   "source": [
    "prompt = promptTemplate.format(language='german', animal='lion')\n",
    "response = openAiAgent.invoke(prompt)\n",
    "print(response.content)"
   ]
  },
  {
   "cell_type": "markdown",
   "metadata": {},
   "source": [
    "### Chat Prompt Templates"
   ]
  },
  {
   "cell_type": "code",
   "execution_count": 21,
   "metadata": {},
   "outputs": [
    {
     "name": "stdout",
     "output_type": "stream",
     "text": [
      "System: you only respond in json\n",
      "Human: Top 5 countries by population in 2020\n"
     ]
    }
   ],
   "source": [
    "from langchain.prompts import SystemMessagePromptTemplate,HumanMessagePromptTemplate, ChatPromptTemplate\n",
    "\n",
    "chatTemplate = ChatPromptTemplate.from_messages([\n",
    "    SystemMessagePromptTemplate.from_template('you only respond in {format}'),\n",
    "    HumanMessagePromptTemplate.from_template('Top {n} countries by population in {year}'),\n",
    "])\n",
    "\n",
    "messages = chatTemplate.format(format='json', n=5, year=2020)\n",
    "print(messages)"
   ]
  },
  {
   "cell_type": "code",
   "execution_count": 22,
   "metadata": {},
   "outputs": [
    {
     "name": "stdout",
     "output_type": "stream",
     "text": [
      "{\n",
      "  \"1\": \"China\",\n",
      "  \"2\": \"India\",\n",
      "  \"3\": \"United States\",\n",
      "  \"4\": \"Indonesia\",\n",
      "  \"5\": \"Pakistan\"\n",
      "}\n"
     ]
    }
   ],
   "source": [
    "response = openAiAgent.invoke(messages)\n",
    "print(response.content)"
   ]
  },
  {
   "cell_type": "code",
   "execution_count": 23,
   "metadata": {},
   "outputs": [
    {
     "name": "stdout",
     "output_type": "stream",
     "text": [
      "1,China,1439323776\n",
      "2,India,1380004385\n",
      "3,United States,332915073\n"
     ]
    }
   ],
   "source": [
    "messages = chatTemplate.format(format='csv', n=3, year=2021)\n",
    "response = openAiAgent.invoke(messages)\n",
    "print(response.content)\n",
    "\n"
   ]
  }
 ],
 "metadata": {
  "kernelspec": {
   "display_name": "Python 3",
   "language": "python",
   "name": "python3"
  },
  "language_info": {
   "codemirror_mode": {
    "name": "ipython",
    "version": 3
   },
   "file_extension": ".py",
   "mimetype": "text/x-python",
   "name": "python",
   "nbconvert_exporter": "python",
   "pygments_lexer": "ipython3",
   "version": "3.12.1"
  }
 },
 "nbformat": 4,
 "nbformat_minor": 2
}
